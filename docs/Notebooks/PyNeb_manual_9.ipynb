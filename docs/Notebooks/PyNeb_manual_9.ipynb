{
 "cells": [
  {
   "cell_type": "code",
   "execution_count": 2,
   "metadata": {},
   "outputs": [],
   "source": [
    "import numpy as np\n",
    "import matplotlib.pyplot as plt\n",
    "import time\n",
    "import pyneb as pn"
   ]
  },
  {
   "cell_type": "code",
   "execution_count": 4,
   "metadata": {},
   "outputs": [],
   "source": [
    "# This is the AAN interface. \n",
    "try:\n",
    "    import ai4neb\n",
    "except:\n",
    "    !pip install -U git+https://github.com/morisset/AI4neb.git\n",
    "    import ai4neb"
   ]
  },
  {
   "cell_type": "code",
   "execution_count": 5,
   "metadata": {},
   "outputs": [],
   "source": [
    "O3 = pn.Atom('O',3)\n",
    "# Set the Artificial Neuron Network verobosity to True:\n",
    "O3.ANN_inst_kwargs['verbose'] = True\n",
    "N2 = pn.Atom('N',2)\n",
    "N2.ANN_inst_kwargs['verbose'] = True\n",
    "S2 = pn.Atom('S',2)\n",
    "S2.ANN_inst_kwargs['verbose'] = True"
   ]
  },
  {
   "cell_type": "code",
   "execution_count": 6,
   "metadata": {},
   "outputs": [],
   "source": [
    "# Number of data points to test the ANN option speedup\n",
    "N_rand = 1000\n",
    "# Define some ramdom values to test the \n",
    "ratio = 150.+ 10*np.random.randn(N_rand)\n",
    "den =  150.+ 10*np.random.randn(N_rand)\n",
    "ratio_S2 = 1 + 0.1*np.random.randn(N_rand)\n",
    "tem_S2 = 11000 + 2000 * np.random.randn(N_rand)"
   ]
  },
  {
   "cell_type": "code",
   "execution_count": 7,
   "metadata": {},
   "outputs": [
    {
     "name": "stdout",
     "output_type": "stream",
     "text": [
      "18.425156116485596\n"
     ]
    }
   ],
   "source": [
    "start = time.time()\n",
    "resa = O3.getTemDen(ratio, den=1e2, wave1=5007, wave2=4363)\n",
    "\n",
    "resb = O3.getTemDen(ratio, den=den, wave1=5007, wave2=4363)\n",
    "resc = N2.getTemDen(ratio, den=den,\n",
    "                       to_eval = '(L(6584) + L(6548)) / L(5755)')\n",
    "resd = S2.getTemDen(ratio_S2, tem=11000, wave1=6716, wave2=6731)\n",
    "\n",
    "rese = S2.getTemDen(ratio_S2, tem=tem_S2, wave1=6716, wave2=6731)\n",
    "end = time.time()\n",
    "print(end-start)"
   ]
  },
  {
   "cell_type": "code",
   "execution_count": 8,
   "metadata": {},
   "outputs": [
    {
     "name": "stdout",
     "output_type": "stream",
     "text": [
      "Instantiation. V 0.17\n",
      "Training set size = 30, Test set size = 0\n",
      "Train data scaled. Log10 applied. \n",
      "Test data scaled. \n",
      "Training set size = 30, Test set size = 0\n",
      "Training set size = 30, Test set size = 0\n",
      "Regression Model SK_ANN\n",
      "Training 2 inputs for 1 outputs with 30 data\n",
      "RM trained, with 799 iterations. Score = 1.000\n",
      "MLPRegressor(activation='tanh', alpha=0.0001, batch_size='auto', beta_1=0.9,\n",
      "             beta_2=0.999, early_stopping=False, epsilon=1e-08,\n",
      "             hidden_layer_sizes=(10, 10), learning_rate='constant',\n",
      "             learning_rate_init=0.001, max_fun=15000, max_iter=20000,\n",
      "             momentum=0.9, n_iter_no_change=10, nesterovs_momentum=True,\n",
      "             power_t=0.5, random_state=None, shuffle=True, solver='lbfgs',\n",
      "             tol=1e-06, validation_fraction=0.1, verbose=False,\n",
      "             warm_start=False)\n",
      "Training time 0.2 s.\n",
      "Test data scaled. Log10 applied. \n",
      "Training set size = 30, Test set size = 1000\n",
      "Predicting from 2 inputs to 1 outputs using 1000 data in 0.00 secs.\n",
      "Instantiation. V 0.17\n",
      "Training set size = 900, Test set size = 0\n",
      "Train data scaled. Log10 applied. \n",
      "Test data scaled. \n",
      "Training set size = 900, Test set size = 0\n",
      "Training set size = 900, Test set size = 0\n",
      "Regression Model SK_ANN\n",
      "Training 2 inputs for 1 outputs with 900 data\n",
      "RM trained, with 388 iterations. Score = 1.000\n",
      "MLPRegressor(activation='tanh', alpha=0.0001, batch_size='auto', beta_1=0.9,\n",
      "             beta_2=0.999, early_stopping=False, epsilon=1e-08,\n",
      "             hidden_layer_sizes=(10, 10), learning_rate='constant',\n",
      "             learning_rate_init=0.001, max_fun=15000, max_iter=20000,\n",
      "             momentum=0.9, n_iter_no_change=10, nesterovs_momentum=True,\n",
      "             power_t=0.5, random_state=None, shuffle=True, solver='lbfgs',\n",
      "             tol=1e-06, validation_fraction=0.1, verbose=False,\n",
      "             warm_start=False)\n",
      "Training time 0.3 s.\n",
      "Test data scaled. Log10 applied. \n",
      "Training set size = 900, Test set size = 1000\n",
      "Predicting from 2 inputs to 1 outputs using 1000 data in 0.00 secs.\n",
      "Instantiation. V 0.17\n",
      "Training set size = 900, Test set size = 0\n",
      "Train data scaled. Log10 applied. \n",
      "Test data scaled. \n",
      "Training set size = 900, Test set size = 0\n",
      "Training set size = 900, Test set size = 0\n",
      "Regression Model SK_ANN\n",
      "Training 2 inputs for 1 outputs with 900 data\n",
      "RM trained, with 334 iterations. Score = 1.000\n",
      "MLPRegressor(activation='tanh', alpha=0.0001, batch_size='auto', beta_1=0.9,\n",
      "             beta_2=0.999, early_stopping=False, epsilon=1e-08,\n",
      "             hidden_layer_sizes=(10, 10), learning_rate='constant',\n",
      "             learning_rate_init=0.001, max_fun=15000, max_iter=20000,\n",
      "             momentum=0.9, n_iter_no_change=10, nesterovs_momentum=True,\n",
      "             power_t=0.5, random_state=None, shuffle=True, solver='lbfgs',\n",
      "             tol=1e-06, validation_fraction=0.1, verbose=False,\n",
      "             warm_start=False)\n",
      "Training time 0.2 s.\n",
      "Test data scaled. Log10 applied. \n",
      "Training set size = 900, Test set size = 1000\n",
      "Predicting from 2 inputs to 1 outputs using 1000 data in 0.00 secs.\n",
      "Instantiation. V 0.17\n",
      "Training set size = 30, Test set size = 0\n",
      "Train data scaled. Log10 applied. \n",
      "Test data scaled. \n",
      "Training set size = 30, Test set size = 0\n",
      "Training set size = 30, Test set size = 0\n",
      "Regression Model SK_ANN\n",
      "Training 2 inputs for 1 outputs with 30 data\n",
      "RM trained, with 267 iterations. Score = 1.000\n",
      "MLPRegressor(activation='tanh', alpha=0.0001, batch_size='auto', beta_1=0.9,\n",
      "             beta_2=0.999, early_stopping=False, epsilon=1e-08,\n",
      "             hidden_layer_sizes=(10, 10), learning_rate='constant',\n",
      "             learning_rate_init=0.001, max_fun=15000, max_iter=20000,\n",
      "             momentum=0.9, n_iter_no_change=10, nesterovs_momentum=True,\n",
      "             power_t=0.5, random_state=None, shuffle=True, solver='lbfgs',\n",
      "             tol=1e-06, validation_fraction=0.1, verbose=False,\n",
      "             warm_start=False)\n",
      "Training time 0.1 s.\n",
      "Test data scaled. Log10 applied. \n",
      "Training set size = 30, Test set size = 1000\n",
      "Predicting from 2 inputs to 1 outputs using 1000 data in 0.00 secs.\n",
      "Instantiation. V 0.17\n",
      "Training set size = 900, Test set size = 0\n",
      "Train data scaled. Log10 applied. \n",
      "Test data scaled. \n",
      "Training set size = 900, Test set size = 0\n",
      "Training set size = 900, Test set size = 0\n",
      "Regression Model SK_ANN\n",
      "Training 2 inputs for 1 outputs with 900 data\n",
      "RM trained, with 1140 iterations. Score = 1.000\n",
      "MLPRegressor(activation='tanh', alpha=0.0001, batch_size='auto', beta_1=0.9,\n",
      "             beta_2=0.999, early_stopping=False, epsilon=1e-08,\n",
      "             hidden_layer_sizes=(10, 10), learning_rate='constant',\n",
      "             learning_rate_init=0.001, max_fun=15000, max_iter=20000,\n",
      "             momentum=0.9, n_iter_no_change=10, nesterovs_momentum=True,\n",
      "             power_t=0.5, random_state=None, shuffle=True, solver='lbfgs',\n",
      "             tol=1e-06, validation_fraction=0.1, verbose=False,\n",
      "             warm_start=False)\n",
      "Training time 0.8 s.\n",
      "Test data scaled. Log10 applied. \n",
      "Training set size = 900, Test set size = 1000\n",
      "Predicting from 2 inputs to 1 outputs using 1000 data in 0.00 secs.\n",
      "1.6784470081329346\n"
     ]
    }
   ],
   "source": [
    "start = time.time()\n",
    "res2a = O3.getTemDen(ratio, den=1e2, wave1=5007, wave2=4363, method='ANN')\n",
    "\n",
    "res2b = O3.getTemDen(ratio, den=den, wave1=5007, wave2=4363, method='ANN')\n",
    "res2c = N2.getTemDen(ratio, den=den,\n",
    "                        to_eval = '(L(6584) + L(6548)) / L(5755)',\n",
    "                        method='ANN')\n",
    "res2d = S2.getTemDen(ratio_S2, tem=11000, wave1=6716, wave2=6731,\n",
    "                         method='ANN', end_x=1e4)\n",
    "res2e = S2.getTemDen(ratio_S2, tem=tem_S2, wave1=6716, wave2=6731,\n",
    "                        method='ANN', end_x=1e4)\n",
    "\n",
    "end = time.time()\n",
    "print(end-start)"
   ]
  },
  {
   "cell_type": "code",
   "execution_count": 9,
   "metadata": {},
   "outputs": [
    {
     "name": "stdout",
     "output_type": "stream",
     "text": [
      "0.989628851618506 0.0015739650916350154\n",
      "1.0029206289581216 0.0010239215279917362\n",
      "1.0031256214295916 0.0007397789335735901\n",
      "0.9971578858108526 0.005512895929255806\n",
      "0.9960431130363838 0.008118436244891825\n"
     ]
    }
   ],
   "source": [
    "# Compare the results\n",
    "print(np.mean(resa/res2a), np.std(resa/res2a))\n",
    "print(np.mean(resb/res2b), np.std(resb/res2b))\n",
    "print(np.mean(resc/res2c), np.std(resc/res2c))\n",
    "print(np.mean(resd/res2d), np.std(resd/res2d))\n",
    "print(np.mean(rese/res2e), np.std(rese/res2e))"
   ]
  }
 ],
 "metadata": {
  "kernelspec": {
   "display_name": "Python 3",
   "language": "python",
   "name": "python3"
  },
  "language_info": {
   "codemirror_mode": {
    "name": "ipython",
    "version": 3
   },
   "file_extension": ".py",
   "mimetype": "text/x-python",
   "name": "python",
   "nbconvert_exporter": "python",
   "pygments_lexer": "ipython3",
   "version": "3.7.6"
  }
 },
 "nbformat": 4,
 "nbformat_minor": 4
}
