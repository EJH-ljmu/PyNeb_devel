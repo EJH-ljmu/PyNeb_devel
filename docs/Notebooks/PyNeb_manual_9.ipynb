{
 "cells": [
  {
   "cell_type": "code",
   "execution_count": 1,
   "metadata": {},
   "outputs": [],
   "source": [
    "import pyneb as pn\n",
    "import numpy as np\n",
    "import matplotlib.pyplot as plt\n",
    "import time"
   ]
  },
  {
   "cell_type": "code",
   "execution_count": 2,
   "metadata": {},
   "outputs": [],
   "source": [
    "# This is the AAN interface. \n",
    "try:\n",
    "    import ai4neb\n",
    "except:\n",
    "    !pip install -U git+https://github.com/morisset/AI4neb.git\n",
    "    import ai4neb"
   ]
  },
  {
   "cell_type": "markdown",
   "metadata": {},
   "source": [
    "# Test Atom.getTemDen"
   ]
  },
  {
   "cell_type": "code",
   "execution_count": 3,
   "metadata": {},
   "outputs": [],
   "source": [
    "O3 = pn.Atom('O',3)\n",
    "N2 = pn.Atom('N',2)\n",
    "S2 = pn.Atom('S',2)"
   ]
  },
  {
   "cell_type": "code",
   "execution_count": 4,
   "metadata": {},
   "outputs": [],
   "source": [
    "# Number of data points to test the ANN option speedup. 1,000 is good to see what's happening. 10,000 starts to really rock.\n",
    "N_rand = 1000\n",
    "# Define some ramdom values to test the \n",
    "ratio = 150.+ 10*np.random.randn(N_rand)\n",
    "den =  150.+ 10*np.random.randn(N_rand)\n",
    "ratio_S2 = 1 + 0.1*np.random.randn(N_rand)\n",
    "tem_S2 = 11000 + 2000 * np.random.randn(N_rand)"
   ]
  },
  {
   "cell_type": "code",
   "execution_count": 5,
   "metadata": {},
   "outputs": [
    {
     "name": "stdout",
     "output_type": "stream",
     "text": [
      "28.317514896392822\n"
     ]
    }
   ],
   "source": [
    "start = time.time()\n",
    "resa = O3.getTemDen(ratio, den=1e2, wave1=5007, wave2=4363)\n",
    "\n",
    "resb = O3.getTemDen(ratio, den=den, wave1=5007, wave2=4363)\n",
    "resc = N2.getTemDen(ratio, den=den,\n",
    "                       to_eval = '(L(6584) + L(6548)) / L(5755)')\n",
    "resd = S2.getTemDen(ratio_S2, tem=11000, wave1=6716, wave2=6731)\n",
    "\n",
    "rese = S2.getTemDen(ratio_S2, tem=tem_S2, wave1=6716, wave2=6731)\n",
    "end = time.time()\n",
    "print(end-start)"
   ]
  },
  {
   "cell_type": "code",
   "execution_count": 6,
   "metadata": {},
   "outputs": [],
   "source": [
    "pn.config.use_multiprocs()"
   ]
  },
  {
   "cell_type": "code",
   "execution_count": 7,
   "metadata": {},
   "outputs": [
    {
     "name": "stdout",
     "output_type": "stream",
     "text": [
      "10.834969282150269\n"
     ]
    }
   ],
   "source": [
    "start = time.time()\n",
    "resa = O3.getTemDen(ratio, den=1e2, wave1=5007, wave2=4363)\n",
    "\n",
    "resb = O3.getTemDen(ratio, den=den, wave1=5007, wave2=4363)\n",
    "resc = N2.getTemDen(ratio, den=den,\n",
    "                       to_eval = '(L(6584) + L(6548)) / L(5755)')\n",
    "resd = S2.getTemDen(ratio_S2, tem=11000, wave1=6716, wave2=6731)\n",
    "\n",
    "rese = S2.getTemDen(ratio_S2, tem=tem_S2, wave1=6716, wave2=6731)\n",
    "end = time.time()\n",
    "print(end-start)"
   ]
  },
  {
   "cell_type": "code",
   "execution_count": 8,
   "metadata": {},
   "outputs": [
    {
     "name": "stdout",
     "output_type": "stream",
     "text": [
      "Instantiation. V 0.17\n",
      "Training set size = 30, Test set size = 0\n",
      "Train data scaled. Log10 applied. \n",
      "Test data scaled. \n",
      "Training set size = 30, Test set size = 0\n",
      "Training set size = 30, Test set size = 0\n",
      "Regression Model SK_ANN\n",
      "Training 2 inputs for 1 outputs with 30 data\n",
      "RM trained, with 145 iterations. Score = 1.000\n",
      "MLPRegressor(activation='tanh', alpha=0.0001, batch_size='auto', beta_1=0.9,\n",
      "             beta_2=0.999, early_stopping=False, epsilon=1e-08,\n",
      "             hidden_layer_sizes=(10, 10), learning_rate='constant',\n",
      "             learning_rate_init=0.001, max_fun=15000, max_iter=20000,\n",
      "             momentum=0.9, n_iter_no_change=10, nesterovs_momentum=True,\n",
      "             power_t=0.5, random_state=None, shuffle=True, solver='lbfgs',\n",
      "             tol=1e-06, validation_fraction=0.1, verbose=False,\n",
      "             warm_start=False)\n",
      "Training time 0.1 s.\n",
      "Test data scaled. Log10 applied. \n",
      "Training set size = 30, Test set size = 1000\n",
      "Predicting from 2 inputs to 1 outputs using 1000 data in 0.00 secs.\n",
      "Instantiation. V 0.17\n",
      "Training set size = 900, Test set size = 0\n",
      "Train data scaled. Log10 applied. \n",
      "Test data scaled. \n",
      "Training set size = 900, Test set size = 0\n",
      "Training set size = 900, Test set size = 0\n",
      "Regression Model SK_ANN\n",
      "Training 2 inputs for 1 outputs with 900 data\n",
      "RM trained, with 399 iterations. Score = 1.000\n",
      "MLPRegressor(activation='tanh', alpha=0.0001, batch_size='auto', beta_1=0.9,\n",
      "             beta_2=0.999, early_stopping=False, epsilon=1e-08,\n",
      "             hidden_layer_sizes=(10, 10), learning_rate='constant',\n",
      "             learning_rate_init=0.001, max_fun=15000, max_iter=20000,\n",
      "             momentum=0.9, n_iter_no_change=10, nesterovs_momentum=True,\n",
      "             power_t=0.5, random_state=None, shuffle=True, solver='lbfgs',\n",
      "             tol=1e-06, validation_fraction=0.1, verbose=False,\n",
      "             warm_start=False)\n",
      "Training time 0.3 s.\n",
      "Test data scaled. Log10 applied. \n",
      "Training set size = 900, Test set size = 1000\n",
      "Predicting from 2 inputs to 1 outputs using 1000 data in 0.00 secs.\n",
      "Instantiation. V 0.17\n",
      "Training set size = 900, Test set size = 0\n",
      "Train data scaled. Log10 applied. \n",
      "Test data scaled. \n",
      "Training set size = 900, Test set size = 0\n",
      "Training set size = 900, Test set size = 0\n",
      "Regression Model SK_ANN\n",
      "Training 2 inputs for 1 outputs with 900 data\n",
      "RM trained, with 251 iterations. Score = 1.000\n",
      "MLPRegressor(activation='tanh', alpha=0.0001, batch_size='auto', beta_1=0.9,\n",
      "             beta_2=0.999, early_stopping=False, epsilon=1e-08,\n",
      "             hidden_layer_sizes=(10, 10), learning_rate='constant',\n",
      "             learning_rate_init=0.001, max_fun=15000, max_iter=20000,\n",
      "             momentum=0.9, n_iter_no_change=10, nesterovs_momentum=True,\n",
      "             power_t=0.5, random_state=None, shuffle=True, solver='lbfgs',\n",
      "             tol=1e-06, validation_fraction=0.1, verbose=False,\n",
      "             warm_start=False)\n",
      "Training time 0.2 s.\n",
      "Test data scaled. Log10 applied. \n",
      "Training set size = 900, Test set size = 1000\n",
      "Predicting from 2 inputs to 1 outputs using 1000 data in 0.00 secs.\n",
      "Instantiation. V 0.17\n",
      "Training set size = 30, Test set size = 0\n",
      "Train data scaled. Log10 applied. \n",
      "Test data scaled. \n",
      "Training set size = 30, Test set size = 0\n",
      "Training set size = 30, Test set size = 0\n",
      "Regression Model SK_ANN\n",
      "Training 2 inputs for 1 outputs with 30 data\n",
      "RM trained, with 1198 iterations. Score = 1.000\n",
      "MLPRegressor(activation='tanh', alpha=0.0001, batch_size='auto', beta_1=0.9,\n",
      "             beta_2=0.999, early_stopping=False, epsilon=1e-08,\n",
      "             hidden_layer_sizes=(10, 10), learning_rate='constant',\n",
      "             learning_rate_init=0.001, max_fun=15000, max_iter=20000,\n",
      "             momentum=0.9, n_iter_no_change=10, nesterovs_momentum=True,\n",
      "             power_t=0.5, random_state=None, shuffle=True, solver='lbfgs',\n",
      "             tol=1e-06, validation_fraction=0.1, verbose=False,\n",
      "             warm_start=False)\n",
      "Training time 0.3 s.\n",
      "Test data scaled. Log10 applied. \n",
      "Training set size = 30, Test set size = 1000\n",
      "Predicting from 2 inputs to 1 outputs using 1000 data in 0.00 secs.\n",
      "Instantiation. V 0.17\n",
      "Training set size = 900, Test set size = 0\n",
      "Train data scaled. Log10 applied. \n",
      "Test data scaled. \n",
      "Training set size = 900, Test set size = 0\n",
      "Training set size = 900, Test set size = 0\n",
      "Regression Model SK_ANN\n",
      "Training 2 inputs for 1 outputs with 900 data\n",
      "RM trained, with 1271 iterations. Score = 1.000\n",
      "MLPRegressor(activation='tanh', alpha=0.0001, batch_size='auto', beta_1=0.9,\n",
      "             beta_2=0.999, early_stopping=False, epsilon=1e-08,\n",
      "             hidden_layer_sizes=(10, 10), learning_rate='constant',\n",
      "             learning_rate_init=0.001, max_fun=15000, max_iter=20000,\n",
      "             momentum=0.9, n_iter_no_change=10, nesterovs_momentum=True,\n",
      "             power_t=0.5, random_state=None, shuffle=True, solver='lbfgs',\n",
      "             tol=1e-06, validation_fraction=0.1, verbose=False,\n",
      "             warm_start=False)\n",
      "Training time 0.9 s.\n",
      "Test data scaled. Log10 applied. \n",
      "Training set size = 900, Test set size = 1000\n",
      "Predicting from 2 inputs to 1 outputs using 1000 data in 0.00 secs.\n",
      "1.8168518543243408\n"
     ]
    }
   ],
   "source": [
    "start = time.time()\n",
    "# Set the Artificial Neuron Network verobosity to True:\n",
    "O3.ANN_inst_kwargs['verbose'] = True\n",
    "res2a = O3.getTemDen(ratio, den=1e2, wave1=5007, wave2=4363, method='ANN')\n",
    "\n",
    "res2b = O3.getTemDen(ratio, den=den, wave1=5007, wave2=4363, method='ANN')\n",
    "N2.ANN_inst_kwargs['verbose'] = True\n",
    "res2c = N2.getTemDen(ratio, den=den,\n",
    "                        to_eval = '(L(6584) + L(6548)) / L(5755)',\n",
    "                        method='ANN')\n",
    "S2.ANN_inst_kwargs['verbose'] = True\n",
    "res2d = S2.getTemDen(ratio_S2, tem=11000, wave1=6716, wave2=6731,\n",
    "                         method='ANN', end_x=1e4)\n",
    "res2e = S2.getTemDen(ratio_S2, tem=tem_S2, wave1=6716, wave2=6731,\n",
    "                        method='ANN', end_x=1e4)\n",
    "\n",
    "end = time.time()\n",
    "print(end-start)"
   ]
  },
  {
   "cell_type": "code",
   "execution_count": 9,
   "metadata": {},
   "outputs": [
    {
     "name": "stdout",
     "output_type": "stream",
     "text": [
      "0.9760922757550656 0.0014651252094208156\n",
      "1.0023892610184786 0.0011300408975968939\n",
      "1.0004085945791563 0.0017517642003213054\n",
      "1.0052743290930866 0.007755331856418873\n",
      "1.0047559158671264 0.008719083835010443\n"
     ]
    }
   ],
   "source": [
    "# Compare the results\n",
    "print(np.mean(resa/res2a), np.std(resa/res2a))\n",
    "print(np.mean(resb/res2b), np.std(resb/res2b))\n",
    "print(np.mean(resc/res2c), np.std(resc/res2c))\n",
    "print(np.mean(resd/res2d), np.std(resd/res2d))\n",
    "print(np.mean(rese/res2e), np.std(rese/res2e))"
   ]
  },
  {
   "cell_type": "markdown",
   "metadata": {},
   "source": [
    "# Test diagnostics.getCrossTemDen"
   ]
  },
  {
   "cell_type": "code",
   "execution_count": 10,
   "metadata": {},
   "outputs": [],
   "source": [
    "N = 2000\n",
    "rO3 = 0.0050 * (1 + 0.6*np.random.randn(N))\n",
    "rN2 = 0.0080 * (1 + 0.6*np.random.randn(N))\n",
    "rS2 = 1.5 * (1 + 0.7*np.random.randn(N))"
   ]
  },
  {
   "cell_type": "code",
   "execution_count": 11,
   "metadata": {},
   "outputs": [],
   "source": [
    "diags = pn.Diagnostics()"
   ]
  },
  {
   "cell_type": "code",
   "execution_count": 12,
   "metadata": {},
   "outputs": [
    {
     "name": "stderr",
     "output_type": "stream",
     "text": [
      "/Users/christophemorisset/Google Drive/Pro/PyNeb_devel/pyneb/core/diags.py:837: RuntimeWarning: invalid value encountered in greater\n",
      "  no_conv = ((abs(den_old - den) / den * 100) > tol_den) | ((abs(tem_old - tem) / tem * 100) > tol_tem)\n"
     ]
    },
    {
     "name": "stdout",
     "output_type": "stream",
     "text": [
      "time for classical method: 94.363916 s.\n"
     ]
    }
   ],
   "source": [
    "# Normal way: looking for the point where both diagnostics coincide:\n",
    "start = time.time()\n",
    "tem, den = diags.getCrossTemDen('[OIII] 4363/5007', '[SII] 6731/6716', rO3, rS2)\n",
    "tem2, den2 = diags.getCrossTemDen('[NII] 5755/6584', '[SII] 6731/6716', rN2, rS2)\n",
    "end = time.time()\n",
    "print('time for classical method: {:1f} s.'.format(end - start))"
   ]
  },
  {
   "cell_type": "code",
   "execution_count": 99,
   "metadata": {},
   "outputs": [],
   "source": [
    "diags.ANN_inst_kwargs = {'RM_type' : 'SK_SVM', \n",
    "                         'verbose' : True, \n",
    "                         'scaling' : True,\n",
    "                         'use_log' : True\n",
    "                                }\n",
    "diags.ANN_init_kwargs = {'C' : 1000, \n",
    "                         'cache_size' : 200, \n",
    "                         'coef0' : 0.0, \n",
    "                         'degree' : 3, \n",
    "                         'epsilon' : 0.1, \n",
    "                         'gamma' : 'scale',\n",
    "                         'kernel' : 'rbf', \n",
    "                         'max_iter' : -1, \n",
    "                         'shrinking' : True, \n",
    "                         'tol' : 0.00001}\n"
   ]
  },
  {
   "cell_type": "code",
   "execution_count": 116,
   "metadata": {},
   "outputs": [],
   "source": [
    "diags.ANN_inst_kwargs = {'RM_type' : 'XGB', \n",
    "                         'verbose' : True, \n",
    "                         'scaling' : True,\n",
    "                         'use_log' : True\n",
    "                                }\n",
    "diags.ANN_init_kwargs = {'n_estimators':1000,\n",
    "                        'max_depth':6}"
   ]
  },
  {
   "cell_type": "code",
   "execution_count": 119,
   "metadata": {},
   "outputs": [],
   "source": [
    "# Set up some parameters of the Regresor Method object\n",
    "diags.ANN_inst_kwargs = {'RM_type' : 'SK_ANN', \n",
    "                         'verbose' : True, \n",
    "                         'scaling' : True,\n",
    "                         'use_log' : True,\n",
    "                         'random_seed' : 43\n",
    "                                }\n",
    "\n",
    "# Set up some parameters of the Analogic Neural Network\n",
    "diags.ANN_init_kwargs = {'hidden_layer_sizes' : (10, 30, 10),\n",
    "                         'activation' : 'tanh',\n",
    "                         'solver' : 'lbfgs', \n",
    "                         'max_iter' : 20000} \n",
    "\n",
    "diags.ANN_n_tem = 30\n",
    "diags.ANN_n_den = 30"
   ]
  },
  {
   "cell_type": "code",
   "execution_count": 120,
   "metadata": {},
   "outputs": [
    {
     "name": "stdout",
     "output_type": "stream",
     "text": [
      "Instantiation. V 0.17\n",
      "Training set size = 900, Test set size = 0\n",
      "Train data scaled. Log10 applied. \n",
      "Test data scaled. \n",
      "Training set size = 900, Test set size = 0\n",
      "Training set size = 900, Test set size = 0\n",
      "Regression Model SK_ANN\n",
      "Training 2 inputs for 2 outputs with 900 data\n",
      "RM trained, with 10064 iterations. Score = 0.999\n",
      "MLPRegressor(activation='tanh', alpha=0.0001, batch_size='auto', beta_1=0.9,\n",
      "             beta_2=0.999, early_stopping=False, epsilon=1e-08,\n",
      "             hidden_layer_sizes=(10, 30, 10), learning_rate='constant',\n",
      "             learning_rate_init=0.001, max_fun=15000, max_iter=20000,\n",
      "             momentum=0.9, n_iter_no_change=10, nesterovs_momentum=True,\n",
      "             power_t=0.5, random_state=43, shuffle=True, solver='lbfgs',\n",
      "             tol=0.0001, validation_fraction=0.1, verbose=False,\n",
      "             warm_start=False)\n",
      "Training time 12.5 s.\n",
      "Test data scaled. Log10 applied. \n",
      "Training set size = 900, Test set size = 1763\n",
      "Predicting from 2 inputs to 2 outputs using 1763 data in 0.00 secs.\n",
      "[0.99851671037496]\n",
      "Instantiation. V 0.17\n",
      "Training set size = 900, Test set size = 0\n",
      "Train data scaled. Log10 applied. \n",
      "Test data scaled. \n",
      "Training set size = 900, Test set size = 0\n",
      "Training set size = 900, Test set size = 0\n",
      "Regression Model SK_ANN\n",
      "Training 2 inputs for 2 outputs with 900 data\n"
     ]
    },
    {
     "name": "stderr",
     "output_type": "stream",
     "text": [
      "/Users/christophemorisset/Google Drive/Pro/AI4neb/ai4neb/Regressor/RegressionModel.py:531: RuntimeWarning: invalid value encountered in log10\n",
      "  X = np.log10(X)\n"
     ]
    },
    {
     "name": "stdout",
     "output_type": "stream",
     "text": [
      "RM trained, with 9423 iterations. Score = 0.999\n",
      "MLPRegressor(activation='tanh', alpha=0.0001, batch_size='auto', beta_1=0.9,\n",
      "             beta_2=0.999, early_stopping=False, epsilon=1e-08,\n",
      "             hidden_layer_sizes=(10, 30, 10), learning_rate='constant',\n",
      "             learning_rate_init=0.001, max_fun=15000, max_iter=20000,\n",
      "             momentum=0.9, n_iter_no_change=10, nesterovs_momentum=True,\n",
      "             power_t=0.5, random_state=43, shuffle=True, solver='lbfgs',\n",
      "             tol=0.0001, validation_fraction=0.1, verbose=False,\n",
      "             warm_start=False)\n",
      "Training time 11.6 s.\n",
      "Test data scaled. Log10 applied. \n",
      "Training set size = 900, Test set size = 1763\n",
      "Predicting from 2 inputs to 2 outputs using 1763 data in 0.00 secs.\n",
      "[0.998907315818436]\n",
      "time for ANN method: 24.275235 s.\n"
     ]
    },
    {
     "name": "stderr",
     "output_type": "stream",
     "text": [
      "/Users/christophemorisset/Google Drive/Pro/AI4neb/ai4neb/Regressor/RegressionModel.py:531: RuntimeWarning: invalid value encountered in log10\n",
      "  X = np.log10(X)\n"
     ]
    }
   ],
   "source": [
    "# Compute Te and Ne using the ANN. Print scoring at training\n",
    "start = time.time()\n",
    "temNN, denNN = diags.getCrossTemDen('[OIII] 4363/5007', '[SII] 6731/6716', \n",
    "                                    rO3, rS2, \n",
    "                                    use_ANN=True, end_den=1e6, start_tem=3e3,limit_res=False)\n",
    "print(diags.ANN.train_score)\n",
    "temNN2, denNN2 = diags.getCrossTemDen('[NII] 5755/6584', '[SII] 6731/6716', \n",
    "                                      rN2, rS2, \n",
    "                                      use_ANN=True, end_den=1e6, start_tem=3e3,limit_res=False)\n",
    "print(diags.ANN.train_score)\n",
    "end2 = time.time()\n",
    "print('time for ANN method: {:1f} s.'.format(end2 - start))"
   ]
  },
  {
   "cell_type": "code",
   "execution_count": 121,
   "metadata": {},
   "outputs": [
    {
     "data": {
      "image/png": "[encoded data removed]",
      "text/plain": [
       "<Figure size 720x720 with 4 Axes>"
      ]
     },
     "metadata": {
      "needs_background": "light"
     },
     "output_type": "display_data"
    }
   ],
   "source": [
    "# PLots comparing the results obtained by the classicla method and the ANN one\n",
    "# ANN is interpolating, while classicla method is looking for a zero.\n",
    "f, ((ax1, ax2), (ax3, ax4)) = plt.subplots(2, 2, figsize=(10,10))\n",
    "ax1.scatter(tem, (temNN-tem)/tem*100, c=np.log10(den))\n",
    "ax2.scatter(np.log10(den), (denNN-den)/den*100, c=tem)\n",
    "ax3.scatter(tem2, (temNN2-tem2)/tem2*100, c=np.log10(den2))\n",
    "ax4.scatter(np.log10(den2), (denNN2-den2)/den2*100, c=tem2);\n",
    "for ax in (ax1, ax2, ax3, ax4):\n",
    "    ax.set_ylabel('Difference [%]')\n",
    "    ax.set_ylim(-15, 15)"
   ]
  },
  {
   "cell_type": "code",
   "execution_count": 106,
   "metadata": {},
   "outputs": [
    {
     "data": {
      "image/png": "[encoded data removed]",
      "text/plain": [
       "<Figure size 720x720 with 4 Axes>"
      ]
     },
     "metadata": {
      "needs_background": "light"
     },
     "output_type": "display_data"
    }
   ],
   "source": [
    "# Histograms of the differences. Not that bad indeed.\n",
    "f, ((ax1, ax2), (ax3, ax4)) = plt.subplots(2, 2, figsize=(10,10))\n",
    "bins = np.linspace(-3, 3, 100)\n",
    "ax1.hist((tem-temNN)/tem*100, bins=bins)\n",
    "ax2.hist((den-denNN)/den*100, bins=bins);\n",
    "ax3.hist((tem2-temNN2)/tem2*100, bins=bins)\n",
    "ax4.hist((den2-denNN2)/den2*100, bins=bins);\n",
    "for ax in (ax1, ax2, ax3, ax4):\n",
    "    ax.set_xlabel('Difference [%]')"
   ]
  },
  {
   "cell_type": "code",
   "execution_count": 18,
   "metadata": {},
   "outputs": [
    {
     "name": "stdout",
     "output_type": "stream",
     "text": [
      "Instantiation. V 0.17\n",
      "Training set size = 900, Test set size = 0\n",
      "Train data scaled. Log10 applied. \n",
      "Test data scaled. \n",
      "Training set size = 900, Test set size = 0\n",
      "Training set size = 900, Test set size = 0\n",
      "Regression Model SK_ANN\n",
      "Training 2 inputs for 2 outputs with 900 data\n"
     ]
    },
    {
     "name": "stderr",
     "output_type": "stream",
     "text": [
      "/Users/christophemorisset/anaconda3/lib/python3.7/site-packages/sklearn/neural_network/_multilayer_perceptron.py:470: ConvergenceWarning: lbfgs failed to converge (status=1):\n",
      "STOP: TOTAL NO. of f AND g EVALUATIONS EXCEEDS LIMIT.\n",
      "\n",
      "Increase the number of iterations (max_iter) or scale the data as shown in:\n",
      "    https://scikit-learn.org/stable/modules/preprocessing.html\n",
      "  self.n_iter_ = _check_optimize_result(\"lbfgs\", opt_res, self.max_iter)\n",
      "/Users/christophemorisset/Google Drive/Pro/AI4neb/ai4neb/Regressor/RegressionModel.py:513: RuntimeWarning: invalid value encountered in log10\n",
      "  X = np.log10(X)\n"
     ]
    },
    {
     "name": "stdout",
     "output_type": "stream",
     "text": [
      "RM trained, with 13405 iterations. Score = 0.998\n",
      "MLPRegressor(activation='tanh', alpha=0.0001, batch_size='auto', beta_1=0.9,\n",
      "             beta_2=0.999, early_stopping=False, epsilon=1e-08,\n",
      "             hidden_layer_sizes=(10, 30, 10), learning_rate='constant',\n",
      "             learning_rate_init=0.001, max_fun=15000, max_iter=20000,\n",
      "             momentum=0.9, n_iter_no_change=10, nesterovs_momentum=True,\n",
      "             power_t=0.5, random_state=42, shuffle=True, solver='lbfgs',\n",
      "             tol=0.0001, validation_fraction=0.1, verbose=False,\n",
      "             warm_start=False)\n",
      "Training time 17.7 s.\n",
      "Test data scaled. Log10 applied. \n",
      "Training set size = 900, Test set size = 1751\n",
      "Predicting from 2 inputs to 2 outputs using 1751 data in 0.00 secs.\n",
      "Instantiation. V 0.17\n",
      "Training set size = 900, Test set size = 0\n",
      "Train data scaled. Log10 applied. \n",
      "Test data scaled. \n",
      "Training set size = 900, Test set size = 0\n",
      "Training set size = 900, Test set size = 0\n",
      "Regression Model SK_ANN\n",
      "Training 2 inputs for 2 outputs with 900 data\n",
      "RM trained, with 7852 iterations. Score = 0.998\n",
      "MLPRegressor(activation='tanh', alpha=0.0001, batch_size='auto', beta_1=0.9,\n",
      "             beta_2=0.999, early_stopping=False, epsilon=1e-08,\n",
      "             hidden_layer_sizes=(10, 30, 10), learning_rate='constant',\n",
      "             learning_rate_init=0.001, max_fun=15000, max_iter=20000,\n",
      "             momentum=0.9, n_iter_no_change=10, nesterovs_momentum=True,\n",
      "             power_t=0.5, random_state=42, shuffle=True, solver='lbfgs',\n",
      "             tol=0.0001, validation_fraction=0.1, verbose=False,\n",
      "             warm_start=False)\n",
      "Training time 10.1 s.\n",
      "Test data scaled. Log10 applied. \n",
      "Training set size = 900, Test set size = 1763\n",
      "Predicting from 2 inputs to 2 outputs using 1763 data in 0.00 secs.\n",
      "Instantiation. V 0.17\n",
      "Training set size = 900, Test set size = 0\n",
      "Train data scaled. Log10 applied. \n",
      "Test data scaled. \n",
      "Training set size = 900, Test set size = 0\n",
      "Training set size = 900, Test set size = 0\n",
      "Regression Model SK_ANN\n",
      "Training 2 inputs for 2 outputs with 900 data\n"
     ]
    },
    {
     "name": "stderr",
     "output_type": "stream",
     "text": [
      "/Users/christophemorisset/Google Drive/Pro/AI4neb/ai4neb/Regressor/RegressionModel.py:513: RuntimeWarning: invalid value encountered in log10\n",
      "  X = np.log10(X)\n"
     ]
    },
    {
     "name": "stdout",
     "output_type": "stream",
     "text": [
      "RM trained, with 12997 iterations. Score = 0.999\n",
      "MLPRegressor(activation='tanh', alpha=0.0001, batch_size='auto', beta_1=0.9,\n",
      "             beta_2=0.999, early_stopping=False, epsilon=1e-08,\n",
      "             hidden_layer_sizes=(10, 30, 10), learning_rate='constant',\n",
      "             learning_rate_init=0.001, max_fun=15000, max_iter=20000,\n",
      "             momentum=0.9, n_iter_no_change=10, nesterovs_momentum=True,\n",
      "             power_t=0.5, random_state=44, shuffle=True, solver='lbfgs',\n",
      "             tol=0.0001, validation_fraction=0.1, verbose=False,\n",
      "             warm_start=False)\n",
      "Training time 16.6 s.\n",
      "Test data scaled. Log10 applied. \n",
      "Training set size = 900, Test set size = 1751\n",
      "Predicting from 2 inputs to 2 outputs using 1751 data in 0.00 secs.\n",
      "Instantiation. V 0.17\n",
      "Training set size = 900, Test set size = 0\n",
      "Train data scaled. Log10 applied. \n",
      "Test data scaled. \n",
      "Training set size = 900, Test set size = 0\n",
      "Training set size = 900, Test set size = 0\n",
      "Regression Model SK_ANN\n",
      "Training 2 inputs for 2 outputs with 900 data\n"
     ]
    },
    {
     "name": "stderr",
     "output_type": "stream",
     "text": [
      "/Users/christophemorisset/Google Drive/Pro/AI4neb/ai4neb/Regressor/RegressionModel.py:513: RuntimeWarning: invalid value encountered in log10\n",
      "  X = np.log10(X)\n",
      "/Users/christophemorisset/anaconda3/lib/python3.7/site-packages/sklearn/neural_network/_multilayer_perceptron.py:470: ConvergenceWarning: lbfgs failed to converge (status=1):\n",
      "STOP: TOTAL NO. of f AND g EVALUATIONS EXCEEDS LIMIT.\n",
      "\n",
      "Increase the number of iterations (max_iter) or scale the data as shown in:\n",
      "    https://scikit-learn.org/stable/modules/preprocessing.html\n",
      "  self.n_iter_ = _check_optimize_result(\"lbfgs\", opt_res, self.max_iter)\n",
      "/Users/christophemorisset/Google Drive/Pro/AI4neb/ai4neb/Regressor/RegressionModel.py:513: RuntimeWarning: invalid value encountered in log10\n",
      "  X = np.log10(X)\n"
     ]
    },
    {
     "name": "stdout",
     "output_type": "stream",
     "text": [
      "RM trained, with 13177 iterations. Score = 0.999\n",
      "MLPRegressor(activation='tanh', alpha=0.0001, batch_size='auto', beta_1=0.9,\n",
      "             beta_2=0.999, early_stopping=False, epsilon=1e-08,\n",
      "             hidden_layer_sizes=(10, 30, 10), learning_rate='constant',\n",
      "             learning_rate_init=0.001, max_fun=15000, max_iter=20000,\n",
      "             momentum=0.9, n_iter_no_change=10, nesterovs_momentum=True,\n",
      "             power_t=0.5, random_state=44, shuffle=True, solver='lbfgs',\n",
      "             tol=0.0001, validation_fraction=0.1, verbose=False,\n",
      "             warm_start=False)\n",
      "Training time 17.2 s.\n",
      "Test data scaled. Log10 applied. \n",
      "Training set size = 900, Test set size = 1763\n",
      "Predicting from 2 inputs to 2 outputs using 1763 data in 0.00 secs.\n",
      "Instantiation. V 0.17\n",
      "Training set size = 900, Test set size = 0\n",
      "Train data scaled. Log10 applied. \n",
      "Test data scaled. \n",
      "Training set size = 900, Test set size = 0\n",
      "Training set size = 900, Test set size = 0\n",
      "Regression Model SK_ANN\n",
      "Training 2 inputs for 2 outputs with 900 data\n",
      "RM trained, with 9122 iterations. Score = 0.998\n",
      "MLPRegressor(activation='tanh', alpha=0.0001, batch_size='auto', beta_1=0.9,\n",
      "             beta_2=0.999, early_stopping=False, epsilon=1e-08,\n",
      "             hidden_layer_sizes=(10, 30, 10), learning_rate='constant',\n",
      "             learning_rate_init=0.001, max_fun=15000, max_iter=20000,\n",
      "             momentum=0.9, n_iter_no_change=10, nesterovs_momentum=True,\n",
      "             power_t=0.5, random_state=45, shuffle=True, solver='lbfgs',\n",
      "             tol=0.0001, validation_fraction=0.1, verbose=False,\n",
      "             warm_start=False)\n",
      "Training time 11.3 s.\n",
      "Test data scaled. Log10 applied. \n",
      "Training set size = 900, Test set size = 1751\n",
      "Predicting from 2 inputs to 2 outputs using 1751 data in 0.00 secs.\n",
      "Instantiation. V 0.17\n",
      "Training set size = 900, Test set size = 0\n",
      "Train data scaled. Log10 applied. \n",
      "Test data scaled. \n",
      "Training set size = 900, Test set size = 0\n",
      "Training set size = 900, Test set size = 0\n",
      "Regression Model SK_ANN\n",
      "Training 2 inputs for 2 outputs with 900 data\n"
     ]
    },
    {
     "name": "stderr",
     "output_type": "stream",
     "text": [
      "/Users/christophemorisset/Google Drive/Pro/AI4neb/ai4neb/Regressor/RegressionModel.py:513: RuntimeWarning: invalid value encountered in log10\n",
      "  X = np.log10(X)\n"
     ]
    },
    {
     "name": "stdout",
     "output_type": "stream",
     "text": [
      "RM trained, with 9507 iterations. Score = 0.999\n",
      "MLPRegressor(activation='tanh', alpha=0.0001, batch_size='auto', beta_1=0.9,\n",
      "             beta_2=0.999, early_stopping=False, epsilon=1e-08,\n",
      "             hidden_layer_sizes=(10, 30, 10), learning_rate='constant',\n",
      "             learning_rate_init=0.001, max_fun=15000, max_iter=20000,\n",
      "             momentum=0.9, n_iter_no_change=10, nesterovs_momentum=True,\n",
      "             power_t=0.5, random_state=45, shuffle=True, solver='lbfgs',\n",
      "             tol=0.0001, validation_fraction=0.1, verbose=False,\n",
      "             warm_start=False)\n",
      "Training time 12.2 s.\n",
      "Test data scaled. Log10 applied. \n",
      "Training set size = 900, Test set size = 1763\n",
      "Predicting from 2 inputs to 2 outputs using 1763 data in 0.00 secs.\n",
      "Instantiation. V 0.17\n",
      "Training set size = 900, Test set size = 0\n",
      "Train data scaled. Log10 applied. \n",
      "Test data scaled. \n",
      "Training set size = 900, Test set size = 0\n",
      "Training set size = 900, Test set size = 0\n",
      "Regression Model SK_ANN\n",
      "Training 2 inputs for 2 outputs with 900 data\n"
     ]
    },
    {
     "name": "stderr",
     "output_type": "stream",
     "text": [
      "/Users/christophemorisset/Google Drive/Pro/AI4neb/ai4neb/Regressor/RegressionModel.py:513: RuntimeWarning: invalid value encountered in log10\n",
      "  X = np.log10(X)\n",
      "/Users/christophemorisset/anaconda3/lib/python3.7/site-packages/sklearn/neural_network/_multilayer_perceptron.py:470: ConvergenceWarning: lbfgs failed to converge (status=1):\n",
      "STOP: TOTAL NO. of f AND g EVALUATIONS EXCEEDS LIMIT.\n",
      "\n",
      "Increase the number of iterations (max_iter) or scale the data as shown in:\n",
      "    https://scikit-learn.org/stable/modules/preprocessing.html\n",
      "  self.n_iter_ = _check_optimize_result(\"lbfgs\", opt_res, self.max_iter)\n",
      "/Users/christophemorisset/Google Drive/Pro/AI4neb/ai4neb/Regressor/RegressionModel.py:513: RuntimeWarning: invalid value encountered in log10\n",
      "  X = np.log10(X)\n"
     ]
    },
    {
     "name": "stdout",
     "output_type": "stream",
     "text": [
      "RM trained, with 13818 iterations. Score = 0.999\n",
      "MLPRegressor(activation='tanh', alpha=0.0001, batch_size='auto', beta_1=0.9,\n",
      "             beta_2=0.999, early_stopping=False, epsilon=1e-08,\n",
      "             hidden_layer_sizes=(10, 30, 10), learning_rate='constant',\n",
      "             learning_rate_init=0.001, max_fun=15000, max_iter=20000,\n",
      "             momentum=0.9, n_iter_no_change=10, nesterovs_momentum=True,\n",
      "             power_t=0.5, random_state=46, shuffle=True, solver='lbfgs',\n",
      "             tol=0.0001, validation_fraction=0.1, verbose=False,\n",
      "             warm_start=False)\n",
      "Training time 18.2 s.\n",
      "Test data scaled. Log10 applied. \n",
      "Training set size = 900, Test set size = 1751\n",
      "Predicting from 2 inputs to 2 outputs using 1751 data in 0.00 secs.\n",
      "Instantiation. V 0.17\n",
      "Training set size = 900, Test set size = 0\n",
      "Train data scaled. Log10 applied. \n",
      "Test data scaled. \n",
      "Training set size = 900, Test set size = 0\n",
      "Training set size = 900, Test set size = 0\n",
      "Regression Model SK_ANN\n",
      "Training 2 inputs for 2 outputs with 900 data\n",
      "RM trained, with 12894 iterations. Score = 0.998\n",
      "MLPRegressor(activation='tanh', alpha=0.0001, batch_size='auto', beta_1=0.9,\n",
      "             beta_2=0.999, early_stopping=False, epsilon=1e-08,\n",
      "             hidden_layer_sizes=(10, 30, 10), learning_rate='constant',\n",
      "             learning_rate_init=0.001, max_fun=15000, max_iter=20000,\n",
      "             momentum=0.9, n_iter_no_change=10, nesterovs_momentum=True,\n",
      "             power_t=0.5, random_state=46, shuffle=True, solver='lbfgs',\n",
      "             tol=0.0001, validation_fraction=0.1, verbose=False,\n",
      "             warm_start=False)\n",
      "Training time 18.1 s.\n",
      "Test data scaled. Log10 applied. \n",
      "Training set size = 900, Test set size = 1763\n",
      "Predicting from 2 inputs to 2 outputs using 1763 data in 0.00 secs.\n"
     ]
    },
    {
     "name": "stderr",
     "output_type": "stream",
     "text": [
      "/Users/christophemorisset/anaconda3/lib/python3.7/site-packages/sklearn/neural_network/_multilayer_perceptron.py:470: ConvergenceWarning: lbfgs failed to converge (status=1):\n",
      "STOP: TOTAL NO. of f AND g EVALUATIONS EXCEEDS LIMIT.\n",
      "\n",
      "Increase the number of iterations (max_iter) or scale the data as shown in:\n",
      "    https://scikit-learn.org/stable/modules/preprocessing.html\n",
      "  self.n_iter_ = _check_optimize_result(\"lbfgs\", opt_res, self.max_iter)\n",
      "/Users/christophemorisset/Google Drive/Pro/AI4neb/ai4neb/Regressor/RegressionModel.py:513: RuntimeWarning: invalid value encountered in log10\n",
      "  X = np.log10(X)\n"
     ]
    }
   ],
   "source": [
    "# Now we run 4 more ANN to make a mean of the 5 results obtained. Takes time, but if one have 10s of thousands of data, it deserves it.\n",
    "diags.ANN_inst_kwargs['random_seed'] = 42\n",
    "temNNb, denNNb = diags.getCrossTemDen('[OIII] 4363/5007', '[SII] 6731/6716', rO3, rS2, use_ANN=True, end_den=1e6, start_tem=3e3,limit_res=False)\n",
    "temNN2b, denNN2b = diags.getCrossTemDen('[NII] 5755/6584', '[SII] 6731/6716', rN2, rS2, use_ANN=True, end_den=1e6, start_tem=3e3,limit_res=False)\n",
    "diags.ANN_inst_kwargs['random_seed'] = 44\n",
    "temNNc, denNNc = diags.getCrossTemDen('[OIII] 4363/5007', '[SII] 6731/6716', rO3, rS2, use_ANN=True, end_den=1e6, start_tem=3e3,limit_res=False)\n",
    "temNN2c, denNN2c = diags.getCrossTemDen('[NII] 5755/6584', '[SII] 6731/6716', rN2, rS2, use_ANN=True, end_den=1e6, start_tem=3e3,limit_res=False)\n",
    "diags.ANN_inst_kwargs['random_seed'] = 45\n",
    "temNNd, denNNd = diags.getCrossTemDen('[OIII] 4363/5007', '[SII] 6731/6716', rO3, rS2, use_ANN=True, end_den=1e6, start_tem=3e3,limit_res=False)\n",
    "temNN2d, denNN2d = diags.getCrossTemDen('[NII] 5755/6584', '[SII] 6731/6716', rN2, rS2, use_ANN=True, end_den=1e6, start_tem=3e3,limit_res=False)\n",
    "diags.ANN_inst_kwargs['random_seed'] = 46\n",
    "temNNe, denNNe = diags.getCrossTemDen('[OIII] 4363/5007', '[SII] 6731/6716', rO3, rS2, use_ANN=True, end_den=1e6, start_tem=3e3,limit_res=False)\n",
    "temNN2e, denNN2e = diags.getCrossTemDen('[NII] 5755/6584', '[SII] 6731/6716', rN2, rS2, use_ANN=True, end_den=1e6, start_tem=3e3,limit_res=False)"
   ]
  },
  {
   "cell_type": "code",
   "execution_count": 19,
   "metadata": {},
   "outputs": [],
   "source": [
    "# Compute the median of the 5 runs.\n",
    "temNNm = np.median(np.array((temNN, temNNb, temNNc, temNNd, temNNe)),0)\n",
    "temNN2m = np.median(np.array((temNN2, temNN2b, temNN2c, temNN2d, temNN2e)),0)\n",
    "denNNm = np.median(np.array((denNN, denNNb, denNNc, denNNd, denNNe)),0)\n",
    "denNN2m = np.median(np.array((denNN2, denNN2b, denNN2c, denNN2d, denNN2e)),0)"
   ]
  },
  {
   "cell_type": "code",
   "execution_count": 20,
   "metadata": {},
   "outputs": [
    {
     "data": {
      "image/png": "[encoded data removed]",
      "text/plain": [
       "<Figure size 720x720 with 4 Axes>"
      ]
     },
     "metadata": {
      "needs_background": "light"
     },
     "output_type": "display_data"
    }
   ],
   "source": [
    "# Histogram of the differences: even better now.\n",
    "f, ((ax1, ax2), (ax3, ax4)) = plt.subplots(2, 2, figsize=(10,10))\n",
    "ax1.hist((tem-temNNm)/tem*100, bins=np.linspace(-4, 4, 100))\n",
    "ax2.hist((den-denNNm)/den*100, bins=np.linspace(-4, 4, 100));\n",
    "ax3.hist((tem2-temNN2m)/tem2*100, bins=np.linspace(-4, 4, 100))\n",
    "ax4.hist((den2-denNN2m)/den2*100, bins=np.linspace(-4, 4, 100));\n",
    "for ax in (ax1, ax2, ax3, ax4):\n",
    "    ax.set_xlabel('Difference [%]')"
   ]
  },
  {
   "cell_type": "code",
   "execution_count": null,
   "metadata": {},
   "outputs": [],
   "source": []
  }
 ],
 "metadata": {
  "kernelspec": {
   "display_name": "Python 3",
   "language": "python",
   "name": "python3"
  },
  "language_info": {
   "codemirror_mode": {
    "name": "ipython",
    "version": 3
   },
   "file_extension": ".py",
   "mimetype": "text/x-python",
   "name": "python",
   "nbconvert_exporter": "python",
   "pygments_lexer": "ipython3",
   "version": "3.7.6"
  }
 },
 "nbformat": 4,
 "nbformat_minor": 4
}
