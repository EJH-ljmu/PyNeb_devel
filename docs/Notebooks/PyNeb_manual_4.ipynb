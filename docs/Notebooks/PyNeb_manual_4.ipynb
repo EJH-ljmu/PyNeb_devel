{
 "cells": [
  {
   "cell_type": "markdown",
   "metadata": {
    "deletable": true,
    "editable": true
   },
   "source": [
    "## Recombination lines: the RecAtom class"
   ]
  },
  {
   "cell_type": "markdown",
   "metadata": {
    "deletable": true,
    "editable": true
   },
   "source": [
    "This object is similar to __Atom__, but some methods differ due to the particularities of the recombination spectrum. It is instantiated with the following command:"
   ]
  },
  {
   "cell_type": "code",
   "execution_count": 1,
   "metadata": {
    "collapsed": false,
    "deletable": true,
    "editable": true,
    "jupyter": {
     "outputs_hidden": false
    }
   },
   "outputs": [],
   "source": [
    "%matplotlib inline\n",
    "import numpy as np\n",
    "import matplotlib.pyplot as plt\n",
    "import pyneb as pn"
   ]
  },
  {
   "cell_type": "code",
   "execution_count": 2,
   "metadata": {
    "deletable": true,
    "editable": true
   },
   "outputs": [],
   "source": [
    "H1 = pn.RecAtom('H', 1)"
   ]
  },
  {
   "cell_type": "markdown",
   "metadata": {
    "deletable": true,
    "editable": true
   },
   "source": [
    "The data are read from a fits file and interpolated in temperature and density. The name of the file is retrievable through:  "
   ]
  },
  {
   "cell_type": "code",
   "execution_count": 3,
   "metadata": {
    "collapsed": false,
    "deletable": true,
    "editable": true,
    "jupyter": {
     "outputs_hidden": false
    }
   },
   "outputs": [
    {
     "data": {
      "text/plain": [
       "'h_i_rec_SH95.hdf5'"
      ]
     },
     "execution_count": 3,
     "metadata": {},
     "output_type": "execute_result"
    }
   ],
   "source": [
    "pn.atomicData.getDataFile('H1', 'rec')"
   ]
  },
  {
   "cell_type": "markdown",
   "metadata": {
    "deletable": true,
    "editable": true
   },
   "source": [
    "In case the instantiation takes too much time (on some systems, the reading the fits fils is slow), you can use the data store in the hdf5 file using:"
   ]
  },
  {
   "cell_type": "code",
   "execution_count": 4,
   "metadata": {
    "deletable": true,
    "editable": true
   },
   "outputs": [],
   "source": [
    "pn.atomicData.setDataFile('h_i_rec_SH95.hdf5')"
   ]
  },
  {
   "cell_type": "code",
   "execution_count": 5,
   "metadata": {
    "deletable": true,
    "editable": true
   },
   "outputs": [],
   "source": [
    "H1 = pn.RecAtom('H', 1)"
   ]
  },
  {
   "cell_type": "markdown",
   "metadata": {
    "deletable": true,
    "editable": true
   },
   "source": [
    "The ions for which recombination lines are available are listed with the command:"
   ]
  },
  {
   "cell_type": "code",
   "execution_count": 6,
   "metadata": {
    "collapsed": false,
    "deletable": true,
    "editable": true,
    "jupyter": {
     "outputs_hidden": false
    }
   },
   "outputs": [
    {
     "data": {
      "text/plain": [
       "['H1',\n",
       " 'He1',\n",
       " 'He2',\n",
       " 'C1',\n",
       " 'C2',\n",
       " 'C3',\n",
       " 'C4',\n",
       " 'N1',\n",
       " 'N2',\n",
       " 'N3',\n",
       " 'N4',\n",
       " 'Ne2',\n",
       " 'O1',\n",
       " 'O2',\n",
       " 'O3',\n",
       " 'O4',\n",
       " 'O5',\n",
       " 'N5',\n",
       " 'O6']"
      ]
     },
     "execution_count": 6,
     "metadata": {},
     "output_type": "execute_result"
    }
   ],
   "source": [
    "pn.atomicData.getAllAtoms(coll=False, rec=True)"
   ]
  },
  {
   "cell_type": "markdown",
   "metadata": {
    "deletable": true,
    "editable": true
   },
   "source": [
    "You can list all the available data files for a given ion by:"
   ]
  },
  {
   "cell_type": "code",
   "execution_count": 7,
   "metadata": {
    "collapsed": false,
    "deletable": true,
    "editable": true,
    "jupyter": {
     "outputs_hidden": false
    }
   },
   "outputs": [
    {
     "data": {
      "text/plain": [
       "['h_i_atom.chianti',\n",
       " 'h_i_coll.chianti',\n",
       " 'h_i_rec_P91.func',\n",
       " 'h_i_rec_SH95-caseA.fits',\n",
       " 'h_i_rec_SH95-caseA.hdf5',\n",
       " 'h_i_rec_SH95.fits',\n",
       " 'h_i_rec_SH95.hdf5',\n",
       " 'h_i_trc_SH95-caseA.dat',\n",
       " 'h_i_trc_SH95-caseB.dat']"
      ]
     },
     "execution_count": 7,
     "metadata": {},
     "output_type": "execute_result"
    }
   ],
   "source": [
    "pn.atomicData.getAllAvailableFiles('H1')"
   ]
  },
  {
   "cell_type": "markdown",
   "metadata": {
    "deletable": true,
    "editable": true
   },
   "source": [
    "The emissivities are obtained by, e.g.:"
   ]
  },
  {
   "cell_type": "code",
   "execution_count": 8,
   "metadata": {
    "collapsed": false,
    "deletable": true,
    "editable": true,
    "jupyter": {
     "outputs_hidden": false
    }
   },
   "outputs": [
    {
     "name": "stdout",
     "output_type": "stream",
     "text": [
      "2.856911883589329\n"
     ]
    }
   ],
   "source": [
    "Hbeta = H1.getEmissivity(tem=1e4, den=1e3, lev_i=4, lev_j=2)\n",
    "Halpha = H1.getEmissivity(tem=1e4, den=1e3, lev_i=3, lev_j=2)\n",
    "print(Halpha/Hbeta)"
   ]
  },
  {
   "cell_type": "markdown",
   "metadata": {
    "deletable": true,
    "editable": true
   },
   "source": [
    "The argument used to identify the various lines in the data file depend on whether the atom is a hydrogenoid or not. In the first case, the transition can be specified either as a pair of levels __lev_i__, __lev_j__, or as a label (labels are descriptive of level pairs):"
   ]
  },
  {
   "cell_type": "code",
   "execution_count": 9,
   "metadata": {
    "collapsed": false,
    "deletable": true,
    "editable": true,
    "jupyter": {
     "outputs_hidden": false
    }
   },
   "outputs": [
    {
     "name": "stdout",
     "output_type": "stream",
     "text": [
      "[[1.24000000e-25 1.23500000e-25]\n",
      " [7.26633333e-26 7.25266667e-26]]\n"
     ]
    }
   ],
   "source": [
    "print(H1.getEmissivity([1e4, 1.8e4], [1e4, 1e2], lev_i = 4, lev_j = 2))"
   ]
  },
  {
   "cell_type": "code",
   "execution_count": 10,
   "metadata": {
    "collapsed": false,
    "deletable": true,
    "editable": true,
    "jupyter": {
     "outputs_hidden": false
    }
   },
   "outputs": [
    {
     "name": "stdout",
     "output_type": "stream",
     "text": [
      "[[1.24000000e-25 1.23500000e-25]\n",
      " [7.26633333e-26 7.25266667e-26]]\n"
     ]
    }
   ],
   "source": [
    "print(H1.getEmissivity([1e4, 1.8e4], [1e4, 1e2], label='4_2'))"
   ]
  },
  {
   "cell_type": "markdown",
   "metadata": {
    "deletable": true,
    "editable": true
   },
   "source": [
    "As in the case of collisional lines, setting __product=False__ modifies the input array of temperature and density values:"
   ]
  },
  {
   "cell_type": "code",
   "execution_count": 11,
   "metadata": {
    "collapsed": false,
    "deletable": true,
    "editable": true,
    "jupyter": {
     "outputs_hidden": false
    }
   },
   "outputs": [
    {
     "name": "stdout",
     "output_type": "stream",
     "text": [
      "[1.24000000e-25 7.25266667e-26]\n"
     ]
    }
   ],
   "source": [
    "print(H1.getEmissivity([1e4, 1.8e4], [1e4, 1e2], label='4_2', product=False))"
   ]
  },
  {
   "cell_type": "markdown",
   "metadata": {
    "deletable": true,
    "editable": true
   },
   "source": [
    "In the case of non-hydrogenoids, the transition can be specified either as a wavelength or as a label (labels are descriptive of wavelengths):"
   ]
  },
  {
   "cell_type": "code",
   "execution_count": 12,
   "metadata": {
    "collapsed": false,
    "deletable": true,
    "editable": true,
    "jupyter": {
     "outputs_hidden": false
    }
   },
   "outputs": [
    {
     "name": "stdout",
     "output_type": "stream",
     "text": [
      "6.11561306801098e-26\n",
      "6.11561306801098e-26\n"
     ]
    }
   ],
   "source": [
    "He1 = pn.RecAtom('He', 1)\n",
    "print(He1.getEmissivity(1e4, 1e2, wave=4471.0))\n",
    "print(He1.getEmissivity(1e4, 1e2, label='4471.0'))"
   ]
  },
  {
   "cell_type": "markdown",
   "metadata": {
    "deletable": true,
    "editable": true
   },
   "source": [
    "Use __Atom.labels__ to display the valid labels for both kind of recombiation atoms, i.e.:"
   ]
  },
  {
   "cell_type": "code",
   "execution_count": 13,
   "metadata": {
    "collapsed": false,
    "deletable": true,
    "editable": true,
    "jupyter": {
     "outputs_hidden": false
    }
   },
   "outputs": [
    {
     "data": {
      "text/plain": [
       "('2_1', '3_1', '3_2', '4_1', '4_2', '4_3', '5_1', '5_2', '5_3', '5_4')"
      ]
     },
     "execution_count": 13,
     "metadata": {},
     "output_type": "execute_result"
    }
   ],
   "source": [
    "H1.labels[0:10]"
   ]
  },
  {
   "cell_type": "code",
   "execution_count": 14,
   "metadata": {
    "collapsed": false,
    "deletable": true,
    "editable": true,
    "jupyter": {
     "outputs_hidden": false
    }
   },
   "outputs": [
    {
     "data": {
      "text/plain": [
       "('2945.0',\n",
       " '3188.0',\n",
       " '3614.0',\n",
       " '3889.0',\n",
       " '3965.0',\n",
       " '4026.0',\n",
       " '4121.0',\n",
       " '4388.0',\n",
       " '4438.0',\n",
       " '4471.0')"
      ]
     },
     "execution_count": 14,
     "metadata": {},
     "output_type": "execute_result"
    }
   ],
   "source": [
    "He1.labels[0:10]"
   ]
  },
  {
   "cell_type": "markdown",
   "metadata": {
    "deletable": true,
    "editable": true
   },
   "source": [
    "As an example application, you can easily generate a 2D table of H alpha/ H Beta as a function of Te and Ne:"
   ]
  },
  {
   "cell_type": "code",
   "execution_count": 15,
   "metadata": {
    "collapsed": false,
    "deletable": true,
    "editable": true,
    "jupyter": {
     "outputs_hidden": false
    }
   },
   "outputs": [
    {
     "name": "stdout",
     "output_type": "stream",
     "text": [
      "(100, 50)\n",
      "2.7245237375264586\n",
      "3.040927694406548\n"
     ]
    }
   ],
   "source": [
    "tem = np.linspace(5000, 20000, 100)\n",
    "den = np.logspace(2, 6, 50)\n",
    "im_Hab = (H1.getEmissivity(tem, den, label='3_2') / H1.getEmissivity(tem, den, label='4_2'))\n",
    "print(im_Hab.shape)\n",
    "print(np.min(im_Hab))\n",
    "print(np.max(im_Hab))"
   ]
  },
  {
   "cell_type": "markdown",
   "metadata": {
    "deletable": true,
    "editable": true
   },
   "source": [
    "By default, H1 emissivities are computed under case B; to compute Case A emissivities, the atomic data file must be changed:"
   ]
  },
  {
   "cell_type": "code",
   "execution_count": 16,
   "metadata": {
    "collapsed": true,
    "deletable": true,
    "editable": true,
    "jupyter": {
     "outputs_hidden": true
    }
   },
   "outputs": [],
   "source": [
    "pn.atomicData.setDataFile('h_i_rec_SH95-caseA.hdf5')"
   ]
  },
  {
   "cell_type": "code",
   "execution_count": 17,
   "metadata": {
    "collapsed": true,
    "deletable": true,
    "editable": true,
    "jupyter": {
     "outputs_hidden": true
    }
   },
   "outputs": [],
   "source": [
    "H1_A = pn.RecAtom('H', 1)"
   ]
  },
  {
   "cell_type": "markdown",
   "metadata": {
    "deletable": true,
    "editable": true
   },
   "source": [
    "Note that the previously defined H1 atom is still available and use the default values."
   ]
  },
  {
   "cell_type": "code",
   "execution_count": 18,
   "metadata": {
    "collapsed": true,
    "deletable": true,
    "editable": true,
    "jupyter": {
     "outputs_hidden": true
    }
   },
   "outputs": [],
   "source": [
    "im_caseAoverB = (H1_A.getEmissivity(tem, den, label='4_2')/H1.getEmissivity(tem, den, label='4_2'))"
   ]
  },
  {
   "cell_type": "markdown",
   "metadata": {
    "deletable": true,
    "editable": true
   },
   "source": [
    "plt.imshow(im_caseAoverB)\n",
    "plt.colorbar();"
   ]
  },
  {
   "cell_type": "markdown",
   "metadata": {},
   "source": [
    "### Emissivities of OII recombination lines"
   ]
  },
  {
   "cell_type": "code",
   "execution_count": 19,
   "metadata": {
    "collapsed": true,
    "jupyter": {
     "outputs_hidden": true
    }
   },
   "outputs": [],
   "source": [
    "O2 = pn.RecAtom('O', 2)"
   ]
  },
  {
   "cell_type": "code",
   "execution_count": 20,
   "metadata": {
    "collapsed": true,
    "jupyter": {
     "outputs_hidden": true
    }
   },
   "outputs": [],
   "source": [
    "V1_mult = ('4638.86', '4641.81', '4649.13', '4650.84', '4661.63', '4673.73', '4676.23', '4696.35')"
   ]
  },
  {
   "cell_type": "code",
   "execution_count": 21,
   "metadata": {
    "collapsed": false,
    "jupyter": {
     "outputs_hidden": false
    }
   },
   "outputs": [
    {
     "data": {
      "text/plain": [
       "<matplotlib.legend.Legend at 0x7f784437a470>"
      ]
     },
     "execution_count": 21,
     "metadata": {},
     "output_type": "execute_result"
    },
    {
     "data": {
      "image/png": "[encoded data removed]",
      "text/plain": [
       "<Figure size 432x288 with 1 Axes>"
      ]
     },
     "metadata": {},
     "output_type": "display_data"
    }
   ],
   "source": [
    "cols = 'rgbymckrgbymckr'\n",
    "temps = 1e4\n",
    "dens = np.logspace(2, 5, 30)\n",
    "f, ax = plt.subplots()\n",
    "for j, label in enumerate(V1_mult):\n",
    "    ax.loglog(dens, O2.getEmissivity(temps, dens, label=label), label=label, c=cols[j])\n",
    "ax.set_xlabel('dens [cm-3]')\n",
    "ax.legend(loc='best')"
   ]
  },
  {
   "cell_type": "markdown",
   "metadata": {},
   "source": [
    "### Ionic abundances from collisional and recombination lines, ADF"
   ]
  },
  {
   "cell_type": "code",
   "execution_count": 22,
   "metadata": {
    "collapsed": false,
    "jupyter": {
     "outputs_hidden": false
    }
   },
   "outputs": [
    {
     "name": "stdout",
     "output_type": "stream",
     "text": [
      "12+log(O++/H) from recombination line: 8.09, \n",
      "12+log(O++/H) from collisional line: 7.48, \n",
      "ADF: 4.1\n"
     ]
    }
   ],
   "source": [
    "O3c = pn.Atom('O',3)\n",
    "O2r = pn.RecAtom('O',2)\n",
    "tem = 1e4\n",
    "den = 1e2\n",
    "Opp_col = O3c.getIonAbundance(int_ratio=127, tem=tem, den=den, wave=5007)\n",
    "Opp_rec = O2r.getIonAbundance(int_ratio=.023, tem=tem, den=den, label='4649.13')\n",
    "print(\"\"\"12+log(O++/H) from recombination line: {:.2f}, \n",
    "12+log(O++/H) from collisional line: {:.2f}, \n",
    "ADF: {:.1f}\"\"\".format(12+np.log10(Opp_rec), 12+np.log10(Opp_col), Opp_rec / Opp_col))"
   ]
  }
 ],
 "metadata": {
  "kernelspec": {
   "display_name": "Python 3",
   "language": "python",
   "name": "python3"
  },
  "language_info": {
   "codemirror_mode": {
    "name": "ipython",
    "version": 3
   },
   "file_extension": ".py",
   "mimetype": "text/x-python",
   "name": "python",
   "nbconvert_exporter": "python",
   "pygments_lexer": "ipython3",
   "version": "3.7.3"
  }
 },
 "nbformat": 4,
 "nbformat_minor": 4
}
