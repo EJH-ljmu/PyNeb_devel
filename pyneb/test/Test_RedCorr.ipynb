{
 "metadata": {
  "name": "",
  "signature": "sha256:795b5d5c4c66ebc0279f0de335e18702618cb43da07417799661ce83a7903001"
 },
 "nbformat": 3,
 "nbformat_minor": 0,
 "worksheets": [
  {
   "cells": [
    {
     "cell_type": "code",
     "collapsed": false,
     "input": [
      "import pyneb as pn\n",
      "import numpy as np\n",
      "import matplotlib.pyplot as plt"
     ],
     "language": "python",
     "metadata": {},
     "outputs": [],
     "prompt_number": 1
    },
    {
     "cell_type": "code",
     "collapsed": false,
     "input": [
      "rc = pn.RedCorr()\n",
      "wl = [4861, 6000, 3000]"
     ],
     "language": "python",
     "metadata": {},
     "outputs": [],
     "prompt_number": 2
    },
    {
     "cell_type": "code",
     "collapsed": false,
     "input": [
      "rc.getLaws()"
     ],
     "language": "python",
     "metadata": {},
     "outputs": [
      {
       "metadata": {},
       "output_type": "pyout",
       "prompt_number": 3,
       "text": [
        "['G03 LMC',\n",
        " 'K76',\n",
        " 'F99-like',\n",
        " 'F88 F99 LMC',\n",
        " 'No correction',\n",
        " 'SM79 Gal',\n",
        " 'MCC99 FM90 LMC',\n",
        " 'CCM89 Bal07',\n",
        " 'CCM89 oD94',\n",
        " 'S79 H83 CCM89',\n",
        " 'F99',\n",
        " 'CCM89']"
       ]
      }
     ],
     "prompt_number": 3
    },
    {
     "cell_type": "code",
     "collapsed": false,
     "input": [
      "rc.law = 'CCM89'\n",
      "rc.cHbeta = 1.5\n",
      "print rc.AV, rc.E_BV"
     ],
     "language": "python",
     "metadata": {},
     "outputs": [
      {
       "output_type": "stream",
       "stream": "stdout",
       "text": [
        "3.220912736 1.03900410839\n"
       ]
      }
     ],
     "prompt_number": 4
    },
    {
     "cell_type": "code",
     "collapsed": false,
     "input": [
      "rc.getCorr(wl)"
     ],
     "language": "python",
     "metadata": {},
     "outputs": [
      {
       "metadata": {},
       "output_type": "pyout",
       "prompt_number": 5,
       "text": [
        "array([  31.6227766 ,   14.72918129,  220.01364957])"
       ]
      }
     ],
     "prompt_number": 5
    },
    {
     "cell_type": "code",
     "collapsed": false,
     "input": [
      "rc.getCorrHb(wl)"
     ],
     "language": "python",
     "metadata": {},
     "outputs": [
      {
       "metadata": {},
       "output_type": "pyout",
       "prompt_number": 6,
       "text": [
        "array([ 1.        ,  0.46577761,  6.95744249])"
       ]
      }
     ],
     "prompt_number": 6
    },
    {
     "cell_type": "code",
     "collapsed": false,
     "input": [
      "rc.law = 'F99'"
     ],
     "language": "python",
     "metadata": {},
     "outputs": [],
     "prompt_number": 7
    },
    {
     "cell_type": "code",
     "collapsed": false,
     "input": [
      "rc.getCorr(wl)"
     ],
     "language": "python",
     "metadata": {},
     "outputs": [
      {
       "metadata": {},
       "output_type": "pyout",
       "prompt_number": 8,
       "text": [
        "array([  31.6227766 ,   13.03246827,  206.25607478])"
       ]
      }
     ],
     "prompt_number": 8
    },
    {
     "cell_type": "code",
     "collapsed": false,
     "input": [
      "rc2 = pn.RedCorr(law='F99')\n",
      "rc2.cHbeta = 1.5\n",
      "print rc2.getCorrHb(wl)\n",
      "print rc2.getCorr(wl)"
     ],
     "language": "python",
     "metadata": {},
     "outputs": [
      {
       "output_type": "stream",
       "stream": "stdout",
       "text": [
        "[ 1.          0.41212283  6.52238978]\n",
        "[  31.6227766    13.03246827  206.25607478]\n"
       ]
      }
     ],
     "prompt_number": 9
    },
    {
     "cell_type": "code",
     "collapsed": false,
     "input": [
      "rc2 = pn.RedCorr(law='S79 H83 CCM89')\n",
      "rc2.cHbeta = 1.5\n",
      "print rc2.getCorrHb(wl)\n",
      "print rc2.getCorr(wl)"
     ],
     "language": "python",
     "metadata": {},
     "outputs": [
      {
       "output_type": "stream",
       "stream": "stdout",
       "text": [
        "[ 1.          0.44435566  5.86254086]\n",
        "[  31.6227766    14.05175965  185.38981993]\n"
       ]
      }
     ],
     "prompt_number": 10
    },
    {
     "cell_type": "code",
     "collapsed": false,
     "input": [
      "rc2 = pn.RedCorr(law='SM79 Gal')\n",
      "rc2.cHbeta = 1.5\n",
      "print rc2.getCorrHb(wl)\n",
      "print rc2.getCorr(wl)"
     ],
     "language": "python",
     "metadata": {},
     "outputs": [
      {
       "output_type": "stream",
       "stream": "stdout",
       "text": [
        "[ 1.          0.45206041  6.8230218 ]\n",
        "[  31.6227766    14.29540548  215.76289427]\n"
       ]
      }
     ],
     "prompt_number": 11
    },
    {
     "cell_type": "code",
     "collapsed": false,
     "input": [
      "rc2 = pn.RedCorr(law='K76')\n",
      "rc2.cHbeta = 1.5\n",
      "print rc2.getCorrHb(wl)\n",
      "print rc2.getCorr(wl)"
     ],
     "language": "python",
     "metadata": {},
     "outputs": [
      {
       "output_type": "stream",
       "stream": "stdout",
       "text": [
        "[ 1.          0.43943018  5.81955646]\n",
        "[ 1.00025358  0.43954162  5.82103218]\n"
       ]
      }
     ],
     "prompt_number": 12
    },
    {
     "cell_type": "code",
     "collapsed": false,
     "input": [
      "rc2.cHbeta = 1.5\n",
      "print rc2.getCorrHb(wl)\n",
      "print rc2.getCorr(wl)"
     ],
     "language": "python",
     "metadata": {},
     "outputs": [
      {
       "output_type": "stream",
       "stream": "stdout",
       "text": [
        "[ 1.          0.43943018  5.81955646]\n",
        "[ 1.00025358  0.43954162  5.82103218]\n"
       ]
      }
     ],
     "prompt_number": 13
    },
    {
     "cell_type": "code",
     "collapsed": false,
     "input": [
      "rc2 = pn.RedCorr()\n",
      "rc2.cHbeta = 3\n",
      "print(rc2.AV, rc2.E_BV, rc2.cHbeta)\n",
      "rc2.law = 'K76'\n",
      "print(rc2.AV, rc2.E_BV, rc2.cHbeta)\n",
      "rc2.cHbeta = 3\n",
      "print(rc2.AV, rc2.E_BV, rc2.cHbeta)\n",
      "rc2.cHbeta = 3\n",
      "print(rc2.AV, rc2.E_BV, rc2.cHbeta)\n",
      "rc2.E_BV = 3\n",
      "print(rc2.AV, rc2.E_BV, rc2.cHbeta)\n",
      "rc2.E_BV = 3\n",
      "print(rc2.AV, rc2.E_BV, rc2.cHbeta)\n",
      "rc2.AV = 3\n",
      "print(rc2.AV, rc2.E_BV, rc2.cHbeta)\n",
      "rc2.AV = 3\n",
      "print(rc2.AV, rc2.E_BV, rc2.cHbeta)\n",
      "rc2.cHbeta = 3\n",
      "print(rc2.AV, rc2.E_BV, rc2.cHbeta)\n"
     ],
     "language": "python",
     "metadata": {},
     "outputs": [
      {
       "output_type": "stream",
       "stream": "stdout",
       "text": [
        "(0.0, array(0), array(3))\n",
        "(array([ 23.25]), array([ 7.5]), array(3))\n",
        "(316716.66666647716, 102166.66666660552, array(3))\n",
        "(4314384814.8096504, 1391737037.0353711, array(3))\n",
        "(9.3000000000000007, array(3), 0.00022022838499197522)\n",
        "(9.3000000000000007, array(3), 1.6166847185391219e-08)\n",
        "(3.0, array(0.9677419354838709), 1.1867995486835894e-12)\n",
        "(3.0, array(0.9677419354838709), 8.7122315971930661e-17)\n",
        "(40866.66666664221, 13182.795698916842, array(3))\n"
       ]
      }
     ],
     "prompt_number": 27
    },
    {
     "cell_type": "code",
     "collapsed": false,
     "input": [],
     "language": "python",
     "metadata": {},
     "outputs": []
    }
   ],
   "metadata": {}
  }
 ]
}