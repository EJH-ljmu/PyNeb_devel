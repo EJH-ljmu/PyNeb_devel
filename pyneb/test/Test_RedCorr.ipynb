{
 "cells": [
  {
   "cell_type": "code",
   "execution_count": 1,
   "metadata": {
    "collapsed": false
   },
   "outputs": [],
   "source": [
    "import pyneb as pn\n",
    "import numpy as np\n",
    "import matplotlib.pyplot as plt"
   ]
  },
  {
   "cell_type": "code",
   "execution_count": 2,
   "metadata": {
    "collapsed": false
   },
   "outputs": [],
   "source": [
    "rc = pn.RedCorr()\n",
    "wl = [4861, 6000, 3000]"
   ]
  },
  {
   "cell_type": "code",
   "execution_count": 3,
   "metadata": {
    "collapsed": false
   },
   "outputs": [
    {
     "data": {
      "text/plain": [
       "['G03 LMC',\n",
       " 'K76',\n",
       " 'F99-like',\n",
       " 'F88 F99 LMC',\n",
       " 'No correction',\n",
       " 'SM79 Gal',\n",
       " 'MCC99 FM90 LMC',\n",
       " 'CCM89 Bal07',\n",
       " 'CCM89 oD94',\n",
       " 'S79 H83 CCM89',\n",
       " 'F99',\n",
       " 'CCM89']"
      ]
     },
     "execution_count": 3,
     "metadata": {},
     "output_type": "execute_result"
    }
   ],
   "source": [
    "rc.getLaws()"
   ]
  },
  {
   "cell_type": "code",
   "execution_count": 4,
   "metadata": {
    "collapsed": false
   },
   "outputs": [
    {
     "name": "stdout",
     "output_type": "stream",
     "text": [
      "3.22120161009 1.03909729358\n"
     ]
    }
   ],
   "source": [
    "rc.law = 'CCM89'\n",
    "rc.cHbeta = 1.5\n",
    "print rc.AV, rc.E_BV"
   ]
  },
  {
   "cell_type": "code",
   "execution_count": 5,
   "metadata": {
    "collapsed": false
   },
   "outputs": [
    {
     "data": {
      "text/plain": [
       "array([  31.63257384,   14.73273503,  220.1201056 ])"
      ]
     },
     "execution_count": 5,
     "metadata": {},
     "output_type": "execute_result"
    }
   ],
   "source": [
    "rc.getCorr(wl)"
   ]
  },
  {
   "cell_type": "code",
   "execution_count": 6,
   "metadata": {
    "collapsed": false
   },
   "outputs": [
    {
     "data": {
      "text/plain": [
       "array([ 1.00030982,  0.46588999,  6.96080892])"
      ]
     },
     "execution_count": 6,
     "metadata": {},
     "output_type": "execute_result"
    }
   ],
   "source": [
    "rc.getCorrHb(wl)"
   ]
  },
  {
   "cell_type": "code",
   "execution_count": 7,
   "metadata": {
    "collapsed": false
   },
   "outputs": [],
   "source": [
    "rc.law = 'F99'"
   ]
  },
  {
   "cell_type": "code",
   "execution_count": 8,
   "metadata": {
    "collapsed": false
   },
   "outputs": [
    {
     "data": {
      "text/plain": [
       "array([  31.63283197,   13.03554862,  206.35727716])"
      ]
     },
     "execution_count": 8,
     "metadata": {},
     "output_type": "execute_result"
    }
   ],
   "source": [
    "rc.getCorr(wl)"
   ]
  },
  {
   "cell_type": "code",
   "execution_count": 9,
   "metadata": {
    "collapsed": false
   },
   "outputs": [
    {
     "name": "stdout",
     "output_type": "stream",
     "text": [
      "[ 1.00031798  0.41222024  6.52559008]\n",
      "[  31.63283197   13.03554862  206.35727716]\n"
     ]
    }
   ],
   "source": [
    "rc2 = pn.RedCorr(law='F99')\n",
    "rc2.cHbeta = 1.5\n",
    "print rc2.getCorrHb(wl)\n",
    "print rc2.getCorr(wl)"
   ]
  },
  {
   "cell_type": "code",
   "execution_count": 10,
   "metadata": {
    "collapsed": false
   },
   "outputs": [
    {
     "name": "stdout",
     "output_type": "stream",
     "text": [
      "[ 1.00028166  0.44445142  5.86503785]\n",
      "[  31.63168359   14.05478793  185.46878163]\n"
     ]
    }
   ],
   "source": [
    "rc2 = pn.RedCorr(law='S79 H83 CCM89')\n",
    "rc2.cHbeta = 1.5\n",
    "print rc2.getCorrHb(wl)\n",
    "print rc2.getCorr(wl)"
   ]
  },
  {
   "cell_type": "code",
   "execution_count": 11,
   "metadata": {
    "collapsed": false
   },
   "outputs": [
    {
     "name": "stdout",
     "output_type": "stream",
     "text": [
      "[ 1.00029706  0.45216383  6.82617585]\n",
      "[  31.63217059   14.29867585  215.86263397]\n"
     ]
    }
   ],
   "source": [
    "rc2 = pn.RedCorr(law='SM79 Gal')\n",
    "rc2.cHbeta = 1.5\n",
    "print rc2.getCorrHb(wl)\n",
    "print rc2.getCorr(wl)"
   ]
  },
  {
   "cell_type": "code",
   "execution_count": 12,
   "metadata": {
    "collapsed": false
   },
   "outputs": [
    {
     "name": "stdout",
     "output_type": "stream",
     "text": [
      "[ 1.00027724  0.43955201  5.82116986]\n",
      "[ 1.00025358  0.43954162  5.82103218]\n"
     ]
    }
   ],
   "source": [
    "rc2 = pn.RedCorr(law='K76')\n",
    "rc2.cHbeta = 1.5\n",
    "print rc2.getCorrHb(wl)\n",
    "print rc2.getCorr(wl)"
   ]
  },
  {
   "cell_type": "code",
   "execution_count": 13,
   "metadata": {
    "collapsed": false
   },
   "outputs": [
    {
     "name": "stdout",
     "output_type": "stream",
     "text": [
      "[ 1.00027724  0.43955201  5.82116986]\n",
      "[ 1.00025358  0.43954162  5.82103218]\n"
     ]
    }
   ],
   "source": [
    "rc2.cHbeta = 1.5\n",
    "print rc2.getCorrHb(wl)\n",
    "print rc2.getCorr(wl)"
   ]
  },
  {
   "cell_type": "code",
   "execution_count": 16,
   "metadata": {
    "collapsed": false
   },
   "outputs": [
    {
     "name": "stdout",
     "output_type": "stream",
     "text": [
      "(0.0, array(0), array(3))\n",
      "(array([ 23.25]), array([ 7.5]), array(3))\n",
      "(-3395228.5736711812, -1095235.0237648971, array(3))\n",
      "(495809766342.93518, 159938634304.17264, array(3))\n",
      "(9.3000000000000007, array(3), -2.0543535872926802e-05)\n",
      "(9.3000000000000007, array(3), 1.4067895538741014e-10)\n",
      "(array(3), 0.96774193548387089, -9.6334772218904304e-16)\n",
      "(array(3), 0.96774193548387089, 6.5968561629643084e-21)\n",
      "(-438094.00950595882, -141320.64822772864, array(3))\n"
     ]
    }
   ],
   "source": [
    "rc2 = pn.RedCorr()\n",
    "rc2.cHbeta = 3\n",
    "print(rc2.AV, rc2.E_BV, rc2.cHbeta)\n",
    "rc2.law = 'K76'\n",
    "print(rc2.AV, rc2.E_BV, rc2.cHbeta)\n",
    "rc2.cHbeta = 3\n",
    "print(rc2.AV, rc2.E_BV, rc2.cHbeta)\n",
    "rc2.cHbeta = 3\n",
    "print(rc2.AV, rc2.E_BV, rc2.cHbeta)\n",
    "rc2.E_BV = 3\n",
    "print(rc2.AV, rc2.E_BV, rc2.cHbeta)\n",
    "rc2.E_BV = 3\n",
    "print(rc2.AV, rc2.E_BV, rc2.cHbeta)\n",
    "rc2.AV = 3\n",
    "print(rc2.AV, rc2.E_BV, rc2.cHbeta)\n",
    "rc2.AV = 3\n",
    "print(rc2.AV, rc2.E_BV, rc2.cHbeta)\n",
    "rc2.cHbeta = 3\n",
    "print(rc2.AV, rc2.E_BV, rc2.cHbeta)\n"
   ]
  },
  {
   "cell_type": "code",
   "execution_count": null,
   "metadata": {
    "collapsed": false
   },
   "outputs": [],
   "source": []
  }
 ],
 "metadata": {
  "kernelspec": {
   "display_name": "Python 2",
   "language": "python",
   "name": "python2"
  },
  "language_info": {
   "codemirror_mode": {
    "name": "ipython",
    "version": 2
   },
   "file_extension": ".py",
   "mimetype": "text/x-python",
   "name": "python",
   "nbconvert_exporter": "python",
   "pygments_lexer": "ipython2",
   "version": "2.7.13"
  }
 },
 "nbformat": 4,
 "nbformat_minor": 0
}
