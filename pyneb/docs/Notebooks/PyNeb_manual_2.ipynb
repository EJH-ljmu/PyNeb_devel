{
 "cells": [
  {
   "cell_type": "markdown",
   "metadata": {
    "deletable": true,
    "editable": true
   },
   "source": [
    "## Using Atom to compute populations and emissivities"
   ]
  },
  {
   "cell_type": "markdown",
   "metadata": {
    "deletable": true,
    "editable": true
   },
   "source": [
    "The __Atom__ class is equipped with method which give access to the populations, emissivities, and other atomic quantities:"
   ]
  },
  {
   "cell_type": "code",
   "execution_count": 1,
   "metadata": {
    "collapsed": false,
    "deletable": true,
    "editable": true
   },
   "outputs": [],
   "source": [
    "import pyneb as pn\n",
    "O3 = pn.Atom('O', 3)\n",
    "N2 = pn.Atom('N', 2)\n",
    "S2 = pn.Atom('S', 2)"
   ]
  },
  {
   "cell_type": "code",
   "execution_count": 2,
   "metadata": {
    "collapsed": false,
    "deletable": true,
    "editable": true
   },
   "outputs": [
    {
     "data": {
      "text/plain": [
       "2.5135650188001009"
      ]
     },
     "execution_count": 2,
     "metadata": {},
     "output_type": "execute_result"
    }
   ],
   "source": [
    "O3.getEnergy(4, unit='eV')"
   ]
  },
  {
   "cell_type": "code",
   "execution_count": 3,
   "metadata": {
    "collapsed": false,
    "deletable": true,
    "editable": true
   },
   "outputs": [
    {
     "data": {
      "text/plain": [
       "5.0"
      ]
     },
     "execution_count": 3,
     "metadata": {},
     "output_type": "execute_result"
    }
   ],
   "source": [
    "O3.getStatWeight(level=4)"
   ]
  },
  {
   "cell_type": "code",
   "execution_count": 4,
   "metadata": {
    "collapsed": false,
    "deletable": true,
    "editable": true
   },
   "outputs": [
    {
     "data": {
      "text/plain": [
       "array([  7.83243624e-01,   1.92593781e-01,   2.41582853e-02,\n",
       "         4.30923299e-06,   2.94925262e-10])"
      ]
     },
     "execution_count": 4,
     "metadata": {},
     "output_type": "execute_result"
    }
   ],
   "source": [
    "O3.getPopulations(tem=1.0e4, den=1e2)"
   ]
  },
  {
   "cell_type": "code",
   "execution_count": 5,
   "metadata": {
    "collapsed": false,
    "deletable": true,
    "editable": true
   },
   "outputs": [
    {
     "data": {
      "text/plain": [
       "array([  8.03949269e-01,   1.74079304e-01,   2.19614822e-02,\n",
       "         9.94300080e-06,   2.03531697e-09])"
      ]
     },
     "execution_count": 5,
     "metadata": {},
     "output_type": "execute_result"
    }
   ],
   "source": [
    "O3.getPopulations(tem=1.5e4, den=1e2)"
   ]
  },
  {
   "cell_type": "code",
   "execution_count": 6,
   "metadata": {
    "collapsed": false,
    "deletable": true,
    "editable": true
   },
   "outputs": [
    {
     "data": {
      "text/plain": [
       "1.0"
      ]
     },
     "execution_count": 6,
     "metadata": {},
     "output_type": "execute_result"
    }
   ],
   "source": [
    "O3.getPopulations(tem=1e4, den=1e2).sum()"
   ]
  },
  {
   "cell_type": "code",
   "execution_count": 7,
   "metadata": {
    "collapsed": false,
    "deletable": true,
    "editable": true
   },
   "outputs": [
    {
     "name": "stdout",
     "output_type": "stream",
     "text": [
      "Critical densities\n",
      "N20.00e+00 4.04e+01 2.48e+02 9.85e+04 1.57e+07 1.00e+10\n",
      "O30.00e+00 5.36e+02 3.75e+03 7.31e+05 2.63e+07\n"
     ]
    }
   ],
   "source": [
    "print('Critical densities')\n",
    "print('N2' + ' '.join('{:8.2e}'.format(cd) for cd in N2.getCritDensity(tem=12000)))\n",
    "print('O3' + ' '.join('{:8.2e}'.format(cd) for cd in O3.getCritDensity(tem=12000)))\n"
   ]
  },
  {
   "cell_type": "code",
   "execution_count": 8,
   "metadata": {
    "collapsed": false,
    "deletable": true,
    "editable": true
   },
   "outputs": [
    {
     "data": {
      "text/plain": [
       "array(3.4970126702581255e-21)"
      ]
     },
     "execution_count": 8,
     "metadata": {},
     "output_type": "execute_result"
    }
   ],
   "source": [
    "O3.getEmissivity(tem=1e4, den=1e2, wave=5007) # in erg.s-1.cm3"
   ]
  },
  {
   "cell_type": "markdown",
   "metadata": {
    "deletable": true,
    "editable": true
   },
   "source": [
    "Wavelengths should be entered with enough precision to avoid confusion with nearby lines. Use __printTransition__ to check if the transition selected by the code actually correponds to the one you intended: "
   ]
  },
  {
   "cell_type": "code",
   "execution_count": 9,
   "metadata": {
    "collapsed": false,
    "deletable": true,
    "editable": true
   },
   "outputs": [
    {
     "name": "stdout",
     "output_type": "stream",
     "text": [
      "Input wave: 5007.0\n",
      "Closest wave found: 5006.8\n",
      "Relative error: 3E-05 \n",
      "Transition: 4 -> 3\n"
     ]
    }
   ],
   "source": [
    "O3.printTransition(5007)"
   ]
  },
  {
   "cell_type": "markdown",
   "metadata": {
    "deletable": true,
    "editable": true
   },
   "source": [
    "__getTransition__ is an abridged version which only returns the tuple of levels rather than an extended output, and is therefore apt to be used in scripts."
   ]
  },
  {
   "cell_type": "code",
   "execution_count": 10,
   "metadata": {
    "collapsed": false,
    "deletable": true,
    "editable": true
   },
   "outputs": [
    {
     "data": {
      "text/plain": [
       "(4, 3)"
      ]
     },
     "execution_count": 10,
     "metadata": {},
     "output_type": "execute_result"
    }
   ],
   "source": [
    "O3.getTransition(5007)"
   ]
  },
  {
   "cell_type": "markdown",
   "metadata": {
    "deletable": true,
    "editable": true
   },
   "source": [
    "Or you can explicitly use the levels corresponding to the transition:"
   ]
  },
  {
   "cell_type": "code",
   "execution_count": 11,
   "metadata": {
    "collapsed": false,
    "deletable": true,
    "editable": true
   },
   "outputs": [
    {
     "data": {
      "text/plain": [
       "array(3.4970126702581255e-21)"
      ]
     },
     "execution_count": 11,
     "metadata": {},
     "output_type": "execute_result"
    }
   ],
   "source": [
    "O3.getEmissivity(tem=1e4, den=1e2, lev_i=4, lev_j=3)"
   ]
  },
  {
   "cell_type": "markdown",
   "metadata": {
    "deletable": true,
    "editable": true
   },
   "source": [
    "In the case of __getEmissivity__, tem and den can be arrays. In such a case, if they have different dimensions N and M, the function will return an array of NxM emissivities corresponding to all tem-den combinations; if both arrays have the same dimension, you can obtain the emissivities of either the NxN array of tem-den combinations as in the previous case, or of the 1D, N-length array obtained pairing tem and den element by element. This is controlled by the “product” parameter, the default being True (results is NxN matrix):"
   ]
  },
  {
   "cell_type": "code",
   "execution_count": 12,
   "metadata": {
    "collapsed": false,
    "deletable": true,
    "editable": true
   },
   "outputs": [
    {
     "data": {
      "text/plain": [
       "array([[  1.17193331e-21,   1.18342741e-21],\n",
       "       [  1.79326025e-21,   1.80800792e-21]])"
      ]
     },
     "execution_count": 12,
     "metadata": {},
     "output_type": "execute_result"
    }
   ],
   "source": [
    "O3.getEmissivity([10000, 12000], [100, 500], 4, 2, product=True)"
   ]
  },
  {
   "cell_type": "code",
   "execution_count": 13,
   "metadata": {
    "collapsed": false,
    "deletable": true,
    "editable": true
   },
   "outputs": [
    {
     "data": {
      "text/plain": [
       "array([  1.17193331e-21,   1.80800792e-21])"
      ]
     },
     "execution_count": 13,
     "metadata": {},
     "output_type": "execute_result"
    }
   ],
   "source": [
    "O3.getEmissivity([10000, 12000], [100, 500], 4, 2, product=False)"
   ]
  },
  {
   "cell_type": "markdown",
   "metadata": {
    "deletable": true,
    "editable": true
   },
   "source": [
    "## Physical conditions determined from line ratios"
   ]
  },
  {
   "cell_type": "markdown",
   "metadata": {
    "deletable": true,
    "editable": true
   },
   "source": [
    "The __Atom__ object also contains a method to compute the electron temperature or density given a line ratio:"
   ]
  },
  {
   "cell_type": "code",
   "execution_count": 14,
   "metadata": {
    "collapsed": false,
    "deletable": true,
    "editable": true
   },
   "outputs": [
    {
     "data": {
      "text/plain": [
       "10047.159990568513"
      ]
     },
     "execution_count": 14,
     "metadata": {},
     "output_type": "execute_result"
    }
   ],
   "source": [
    "O3.getTemDen(int_ratio=150., den=100., wave1=5007, wave2=4363)"
   ]
  },
  {
   "cell_type": "markdown",
   "metadata": {
    "deletable": true,
    "editable": true
   },
   "source": [
    "The keyword tem (or den) specifies the supplied value of the temperature (or density). Which quantity is computed (temperature or density) is determined by which quantity is provided to the method: if “den” is given, then “tem” is computed, and vice versa.\n",
    "\n",
    "If the intensity ratio is a simple ratio of two transitions, you can:"
   ]
  },
  {
   "cell_type": "markdown",
   "metadata": {
    "deletable": true,
    "editable": true
   },
   "source": [
    "- either give the wavelengths of the two transitions involved: "
   ]
  },
  {
   "cell_type": "code",
   "execution_count": 15,
   "metadata": {
    "collapsed": false,
    "deletable": true,
    "editable": true
   },
   "outputs": [
    {
     "data": {
      "text/plain": [
       "14869.309006222302"
      ]
     },
     "execution_count": 15,
     "metadata": {},
     "output_type": "execute_result"
    }
   ],
   "source": [
    "O3.getTemDen(0.02, den=1.e4,  wave1=4363, wave2=5007)"
   ]
  },
  {
   "cell_type": "markdown",
   "metadata": {
    "deletable": true,
    "editable": true
   },
   "source": [
    "- or give the four levels that define the two transitions, in the following order: (upper level of numerator) (lower level of numerator) (upper level of denominator) (lower level of denominator); e. g.:"
   ]
  },
  {
   "cell_type": "code",
   "execution_count": 16,
   "metadata": {
    "collapsed": false,
    "deletable": true,
    "editable": true
   },
   "outputs": [
    {
     "data": {
      "text/plain": [
       "14869.309006222302"
      ]
     },
     "execution_count": 16,
     "metadata": {},
     "output_type": "execute_result"
    }
   ],
   "source": [
    "O3.getTemDen(0.02, den=1.e4, lev_i1=5, lev_j1=4, lev_i2=4, lev_j2=3)"
   ]
  },
  {
   "cell_type": "markdown",
   "metadata": {
    "deletable": true,
    "editable": true
   },
   "source": [
    "In the general case of an intensity ratio formed by any number of transitions, an algebraic expression must be supplied as the argument of the keyword __to_eval__:"
   ]
  },
  {
   "cell_type": "code",
   "execution_count": 17,
   "metadata": {
    "collapsed": false,
    "deletable": true,
    "editable": true
   },
   "outputs": [
    {
     "data": {
      "text/plain": [
       "17146.976141241066"
      ]
     },
     "execution_count": 17,
     "metadata": {},
     "output_type": "execute_result"
    }
   ],
   "source": [
    "O3.getTemDen(0.02, den=1.e4, to_eval=\"I(5, 4) / (I(4, 3) + I(4, 2))\" )"
   ]
  },
  {
   "cell_type": "code",
   "execution_count": 18,
   "metadata": {
    "collapsed": false,
    "deletable": true,
    "editable": true
   },
   "outputs": [
    {
     "data": {
      "text/plain": [
       "8314.4744402712549"
      ]
     },
     "execution_count": 18,
     "metadata": {},
     "output_type": "execute_result"
    }
   ],
   "source": [
    "N2.getTemDen(150., den=100., to_eval = \"(L(6584) + L(6548)) / L(5755)\")"
   ]
  },
  {
   "cell_type": "markdown",
   "metadata": {
    "deletable": true,
    "editable": true
   },
   "source": [
    "The __to_eval__ argument accepts either I(i, j) or L(wavelength) to identify the transitions involved in the diagnostic. Both can be mixed in the same string. If you do not know what transition corresponds to a given wavelength, use __printTransition__ to find it.\n",
    "\n",
    "The parameters __tem__ and __den__, as well as the line ratio, may be arrays (1D or 2D, as in the case of observations obtained from IFUs), in which case the result will have the same shape. Some restrictions can be set to the domain explored by the method when looking for the solution; see the method's documentation for further details."
   ]
  },
  {
   "cell_type": "code",
   "execution_count": 19,
   "metadata": {
    "collapsed": false,
    "deletable": true,
    "editable": true
   },
   "outputs": [
    {
     "data": {
      "text/plain": [
       "array([ 14882.79182011,  16656.80498698])"
      ]
     },
     "execution_count": 19,
     "metadata": {},
     "output_type": "execute_result"
    }
   ],
   "source": [
    "O3.getTemDen([0.015, 0.019], den=[1.e4, 1.1e4], to_eval=\"I(5, 4) / (I(4, 3) + I(4, 2))\")"
   ]
  },
  {
   "cell_type": "code",
   "execution_count": 20,
   "metadata": {
    "collapsed": false,
    "deletable": true,
    "editable": true
   },
   "outputs": [
    {
     "data": {
      "text/plain": [
       "array([ 14882.79182011,  16687.02595035])"
      ]
     },
     "execution_count": 20,
     "metadata": {},
     "output_type": "execute_result"
    }
   ],
   "source": [
    "O3.getTemDen([0.015, 0.019], den=1.e4, to_eval=\"I(5, 4) / (I(4, 3) + I(4, 2))\")"
   ]
  },
  {
   "cell_type": "markdown",
   "metadata": {
    "deletable": true,
    "editable": true
   },
   "source": [
    "Notice that if you want to simultaneously determine both temperature and density combining two diagnostics (from two different atoms), you need to use the __getCrossTemDen__ method of the __Diagnostic__ class"
   ]
  },
  {
   "cell_type": "markdown",
   "metadata": {
    "deletable": true,
    "editable": true
   },
   "source": [
    "Example of use in the case of density determination:"
   ]
  },
  {
   "cell_type": "code",
   "execution_count": 21,
   "metadata": {
    "collapsed": false,
    "deletable": true,
    "editable": true
   },
   "outputs": [
    {
     "data": {
      "text/plain": [
       "710.31244523435123"
      ]
     },
     "execution_count": 21,
     "metadata": {},
     "output_type": "execute_result"
    }
   ],
   "source": [
    "S2.getTemDen(1.1, tem = 1e4, wave1=6730, wave2 = 6716)"
   ]
  },
  {
   "cell_type": "markdown",
   "metadata": {
    "deletable": true,
    "editable": true
   },
   "source": [
    "## Ionic abundance determination"
   ]
  },
  {
   "cell_type": "markdown",
   "metadata": {
    "deletable": true,
    "editable": true
   },
   "source": [
    "The ionic abundance is obtained from the intensity of a line normalized to Hbeta=100."
   ]
  },
  {
   "cell_type": "code",
   "execution_count": 22,
   "metadata": {
    "collapsed": false,
    "deletable": true,
    "editable": true
   },
   "outputs": [
    {
     "data": {
      "text/plain": [
       "1.3535910317699493e-05"
      ]
     },
     "execution_count": 22,
     "metadata": {},
     "output_type": "execute_result"
    }
   ],
   "source": [
    "O3.getIonAbundance(int_ratio=127, tem=1.5e4, den=100., wave=5007)"
   ]
  },
  {
   "cell_type": "code",
   "execution_count": 23,
   "metadata": {
    "collapsed": false,
    "deletable": true,
    "editable": true
   },
   "outputs": [
    {
     "data": {
      "text/plain": [
       "7.5706366241087909e-07"
      ]
     },
     "execution_count": 23,
     "metadata": {},
     "output_type": "execute_result"
    }
   ],
   "source": [
    "S2.getIonAbundance(int_ratio=72, tem=1.5e4, den=100., to_eval='L(6716)+L(6731)')"
   ]
  },
  {
   "cell_type": "markdown",
   "metadata": {
    "editable": true
   },
   "source": [
    "The ionic abundance from recombination lines is treated below"
   ]
  },
  {
   "cell_type": "markdown",
   "metadata": {
    "collapsed": true,
    "deletable": true,
    "editable": true
   },
   "source": [
    "## Creating a dictionary of Atom objects"
   ]
  },
  {
   "cell_type": "markdown",
   "metadata": {
    "deletable": true,
    "editable": true
   },
   "source": [
    "You can define all the atoms at once and put them in a dictionary by creating each atom at a time through the commands:"
   ]
  },
  {
   "cell_type": "code",
   "execution_count": 24,
   "metadata": {
    "collapsed": true,
    "deletable": true,
    "editable": true
   },
   "outputs": [],
   "source": [
    "O3 = pn.Atom('O', '3')\n",
    "O2 = pn.Atom('O', '2')\n",
    "N2 = pn.Atom('N', '2')"
   ]
  },
  {
   "cell_type": "markdown",
   "metadata": {
    "deletable": true,
    "editable": true
   },
   "source": [
    "or rather use one of the following shortcuts:"
   ]
  },
  {
   "cell_type": "code",
   "execution_count": 25,
   "metadata": {
    "collapsed": true,
    "deletable": true,
    "editable": true
   },
   "outputs": [],
   "source": [
    "atoms = pn.getAtomDict() # a method always requires parenthesis, even without argument"
   ]
  },
  {
   "cell_type": "code",
   "execution_count": 26,
   "metadata": {
    "collapsed": false,
    "deletable": true,
    "editable": true
   },
   "outputs": [
    {
     "data": {
      "text/plain": [
       "{'3He2': Atom 3He2 from 3he_ii_atom_cloudy.dat and 3he_ii_coll_cloudy.dat,\n",
       " 'Al2': Atom Al2 from al_ii_atom_JSP86-HK87-VVF96-KS86.dat and al_ii_coll_KHAF92-TBK85-TBK84.dat,\n",
       " 'Ar2': Atom Ar2 from ar_ii_atom_Bal06.dat and ar_ii_coll_PB95.dat,\n",
       " 'Ar3': Atom Ar3 from ar_iii_atom_M83-KS86.dat and ar_iii_coll_GMZ95.dat,\n",
       " 'Ar4': Atom Ar4 from ar_iv_atom_MZ82.dat and ar_iv_coll_RB97.dat,\n",
       " 'Ar5': Atom Ar5 from ar_v_atom_LL93-MZ82-KS86.dat and ar_v_coll_GMZ95.dat,\n",
       " 'Ba2': Atom Ba2 from ba_ii_atom_C04.dat and ba_ii_coll_SB98.dat,\n",
       " 'Ba4': Atom Ba4 from ba_iv_atom_BHQZ95.dat and ba_iv_coll_SB98.dat,\n",
       " 'Br3': Atom Br3 from br_iii_atom_BH86.dat and br_iii_coll_S97.dat,\n",
       " 'Br4': Atom Br4 from br_iv_atom_BH86.dat and br_iv_coll_S97.dat,\n",
       " 'C1': Atom C1 from c_i_atom_FFS85.dat and c_i_coll_JBK87-PA76.dat,\n",
       " 'C2': Atom C2 from c_ii_atom_GMZ98.dat and c_ii_coll_BP92.dat,\n",
       " 'C3': Atom C3 from c_iii_atom_G83-NS78-WFD96.dat and c_iii_coll_Bal85.dat,\n",
       " 'C4': Atom C4 from c_iv_atom_WFD96.dat and c_iv_coll_AK04.dat,\n",
       " 'Ca5': Atom Ca5 from ca_v_atom_M83-KS86.dat and ca_v_coll_GMZ95.dat,\n",
       " 'Cl2': Atom Cl2 from cl_ii_atom_MZ83.dat and cl_ii_coll_T04.dat,\n",
       " 'Cl3': Atom Cl3 from cl_iii_atom_M83-KS86.dat and cl_iii_coll_BZ89.dat,\n",
       " 'Cl4': Atom Cl4 from cl_iv_atom_KS86-MZ82-EM84.dat and cl_iv_coll_GMZ95.dat,\n",
       " 'Fe2': Atom Fe2 from fe_ii_atom_B15.dat and fe_ii_coll_B15.dat,\n",
       " 'Fe3': Atom Fe3 from fe_iii_atom_Q96_J00.dat and fe_iii_coll_Z96.dat,\n",
       " 'Fe4': Atom Fe4 from fe_iv_atom_FFRR08.dat and fe_iv_coll_ZP97.dat,\n",
       " 'Fe5': Atom Fe5 from fe_v_atom_Nal00.dat and fe_v_coll_BGMcL07.dat,\n",
       " 'Fe6': Atom Fe6 from fe_vi_atom_CP00.dat and fe_vi_coll_CP99.dat,\n",
       " 'Fe7': Atom Fe7 from fe_vii_atom_WB08.dat and fe_vii_coll_WB08.dat,\n",
       " 'K4': Atom K4 from k_iv_atom_M83-KS86.dat and k_iv_coll_GMZ95.dat,\n",
       " 'K5': Atom K5 from k_v_atom_M83-KS86.dat and k_v_coll_BZL88.dat,\n",
       " 'Kr3': Atom Kr3 from kr_iii_atom_BH86.dat and kr_iii_coll_S97.dat,\n",
       " 'Kr4': Atom Kr4 from kr_iv_atom_BH86.dat and kr_iv_coll_S97.dat,\n",
       " 'Kr5': Atom Kr5 from kr_v_atom_BH86.dat and kr_v_coll_S97.dat,\n",
       " 'Mg5': Atom Mg5 from mg_v_atom_GMZ97.dat and mg_v_coll_BZ94.dat,\n",
       " 'Mg7': Atom Mg7 from mg_vii_atom_GMZ97.dat and mg_vii_coll_LB94-U.dat,\n",
       " 'N1': Atom N1 from n_i_atom_KS86-WFD96.dat and n_i_coll_PA76-DMR76.dat,\n",
       " 'N2': Atom N2 from n_ii_atom_GMZ97-WFD96.dat and n_ii_coll_T11.dat,\n",
       " 'N3': Atom N3 from n_iii_atom_GMZ98.dat and n_iii_coll_BP92.dat,\n",
       " 'N4': Atom N4 from n_iv_atom_WFD96.dat and n_iv_coll_RBHB94.dat,\n",
       " 'Na4': Atom Na4 from na_iv_atom_GMZ97.dat and na_iv_coll_BZ94.dat,\n",
       " 'Na6': Atom Na6 from na_vi_atom_GMZ97.dat and na_vi_coll_LB94.dat,\n",
       " 'Ne2': Atom Ne2 from ne_ii_atom_Bal06.dat and ne_ii_coll_GMB01.dat,\n",
       " 'Ne3': Atom Ne3 from ne_iii_atom_GMZ97.dat and ne_iii_coll_McLB00.dat,\n",
       " 'Ne4': Atom Ne4 from ne_iv_atom_BBZ89-BK88.dat and ne_iv_coll_G81.dat,\n",
       " 'Ne5': Atom Ne5 from ne_v_atom_GMZ97-U-BD93.dat and ne_v_coll_LB94.dat,\n",
       " 'Ne6': Atom Ne6 from ne_vi_atom_GMZ98.dat and ne_vi_coll_ZGP94.dat,\n",
       " 'Ni3': Atom Ni3 from ni_iii_atom_B01.dat and ni_iii_coll_B01.dat,\n",
       " 'O1': Atom O1 from o_i_atom_WFD96.dat and o_i_coll_BK95.dat,\n",
       " 'O2': Atom O2 from o_ii_atom_Z82-WFD96.dat and o_ii_coll_P06-T07.dat,\n",
       " 'O3': Atom O3 from o_iii_atom_SZ00-WFD96.dat and o_iii_coll_SSB14.dat,\n",
       " 'O4': Atom O4 from o_iv_atom_GMZ98.dat and o_iv_coll_BP92.dat,\n",
       " 'O5': Atom O5 from o_v_atom_H80-NS79.dat and o_v_coll_BBDK85.dat,\n",
       " 'P2': Atom P2 from p_ii_atom_MZ82.dat and p_ii_coll_T04.dat,\n",
       " 'Rb4': Atom Rb4 from rb_iv_atom_BH86.dat and rb_iv_coll_S97.dat,\n",
       " 'Rb5': Atom Rb5 from rb_v_atom_BH86.dat and rb_v_coll_S97.dat,\n",
       " 'Rb6': Atom Rb6 from rb_vi_atom_BH86.dat and rb_vi_coll_S97.dat,\n",
       " 'S2': Atom S2 from s_ii_atom_PKW09.dat and s_ii_coll_TZ10.dat,\n",
       " 'S3': Atom S3 from s_iii_atom_PKW09.dat and s_iii_coll_TG99.dat,\n",
       " 'S4': Atom S4 from s_iv_atom_JKD86-DHKD82.dat and s_iv_coll_DHKD82.dat,\n",
       " 'Se3': Atom Se3 from se_iii_atom_BH86.dat and se_iii_coll_S97.dat,\n",
       " 'Se4': Atom Se4 from se_iv_atom_B05.dat and se_iv_coll_B05.dat,\n",
       " 'Si2': Atom Si2 from si_ii_atom_BL93-CSB93-N77.dat and si_ii_coll_DK91.dat,\n",
       " 'Si3': Atom Si3 from si_iii_atom_M83-OKH88-FW90-KS86.dat and si_iii_coll_DK94.dat,\n",
       " 'Xe3': Atom Xe3 from xe_iii_atom_BHQZ95.dat and xe_iii_coll_SB98.dat,\n",
       " 'Xe4': Atom Xe4 from xe_iv_atom_BHQZ95.dat and xe_iv_coll_SB98.dat,\n",
       " 'Xe6': Atom Xe6 from xe_vi_atom_BHQZ95.dat and xe_vi_coll_SB98.dat}"
      ]
     },
     "execution_count": 26,
     "metadata": {},
     "output_type": "execute_result"
    }
   ],
   "source": [
    "atoms # All the available atoms"
   ]
  },
  {
   "cell_type": "markdown",
   "metadata": {
    "deletable": true,
    "editable": true
   },
   "source": [
    "It is also possible to select only a subset of the elements or ions available by specifying the arguments __elem_list__ or __atom_list__:"
   ]
  },
  {
   "cell_type": "code",
   "execution_count": 27,
   "metadata": {
    "collapsed": false,
    "deletable": true,
    "editable": true
   },
   "outputs": [
    {
     "name": "stdout",
     "output_type": "stream",
     "text": [
      "62\n"
     ]
    }
   ],
   "source": [
    "print(len(atoms))"
   ]
  },
  {
   "cell_type": "code",
   "execution_count": 28,
   "metadata": {
    "collapsed": false,
    "deletable": true,
    "editable": true
   },
   "outputs": [
    {
     "name": "stdout",
     "output_type": "stream",
     "text": [
      "warng _ManageAtomicData: data for C5 not available\n",
      "warng _ManageAtomicData: data for C5 not available\n",
      "warng _ManageAtomicData: data for C6 not available\n",
      "warng _ManageAtomicData: data for C6 not available\n",
      "warng _ManageAtomicData: data for C7 not available\n",
      "warng _ManageAtomicData: data for C7 not available\n",
      "warng _ManageAtomicData: atom data not available for N5\n",
      "warng _ManageAtomicData: coll data not available for N5\n",
      "warng _ManageAtomicData: data for N6 not available\n",
      "warng _ManageAtomicData: data for N6 not available\n",
      "warng _ManageAtomicData: data for N7 not available\n",
      "warng _ManageAtomicData: data for N7 not available\n",
      "warng _ManageAtomicData: atom data not available for O6\n",
      "warng _ManageAtomicData: coll data not available for O6\n",
      "warng _ManageAtomicData: data for O7 not available\n",
      "warng _ManageAtomicData: data for O7 not available\n"
     ]
    }
   ],
   "source": [
    "atoms = pn.getAtomDict(elem_list=['C', 'N', 'O']) # all the ions with spectra from 1 to 6 are created"
   ]
  },
  {
   "cell_type": "code",
   "execution_count": 29,
   "metadata": {
    "collapsed": false,
    "deletable": true,
    "editable": true
   },
   "outputs": [
    {
     "data": {
      "text/plain": [
       "{'C1': Atom C1 from c_i_atom_FFS85.dat and c_i_coll_JBK87-PA76.dat,\n",
       " 'C2': Atom C2 from c_ii_atom_GMZ98.dat and c_ii_coll_BP92.dat,\n",
       " 'C3': Atom C3 from c_iii_atom_G83-NS78-WFD96.dat and c_iii_coll_Bal85.dat,\n",
       " 'C4': Atom C4 from c_iv_atom_WFD96.dat and c_iv_coll_AK04.dat,\n",
       " 'C5': Atom C5 from None and None,\n",
       " 'C6': Atom C6 from None and None,\n",
       " 'C7': Atom C7 from None and None,\n",
       " 'N1': Atom N1 from n_i_atom_KS86-WFD96.dat and n_i_coll_PA76-DMR76.dat,\n",
       " 'N2': Atom N2 from n_ii_atom_GMZ97-WFD96.dat and n_ii_coll_T11.dat,\n",
       " 'N3': Atom N3 from n_iii_atom_GMZ98.dat and n_iii_coll_BP92.dat,\n",
       " 'N4': Atom N4 from n_iv_atom_WFD96.dat and n_iv_coll_RBHB94.dat,\n",
       " 'N5': Atom N5 from None and None,\n",
       " 'N6': Atom N6 from None and None,\n",
       " 'N7': Atom N7 from None and None,\n",
       " 'O1': Atom O1 from o_i_atom_WFD96.dat and o_i_coll_BK95.dat,\n",
       " 'O2': Atom O2 from o_ii_atom_Z82-WFD96.dat and o_ii_coll_P06-T07.dat,\n",
       " 'O3': Atom O3 from o_iii_atom_SZ00-WFD96.dat and o_iii_coll_SSB14.dat,\n",
       " 'O4': Atom O4 from o_iv_atom_GMZ98.dat and o_iv_coll_BP92.dat,\n",
       " 'O5': Atom O5 from o_v_atom_H80-NS79.dat and o_v_coll_BBDK85.dat,\n",
       " 'O6': Atom O6 from None and None,\n",
       " 'O7': Atom O7 from None and None}"
      ]
     },
     "execution_count": 29,
     "metadata": {},
     "output_type": "execute_result"
    }
   ],
   "source": [
    "atoms # All the CNO available atoms"
   ]
  },
  {
   "cell_type": "code",
   "execution_count": 30,
   "metadata": {
    "collapsed": true,
    "deletable": true,
    "editable": true
   },
   "outputs": [],
   "source": [
    "atoms = pn.getAtomDict(atom_list=['O2', 'O3', 'Ar3', 'N2'])"
   ]
  },
  {
   "cell_type": "code",
   "execution_count": 31,
   "metadata": {
    "collapsed": false,
    "deletable": true,
    "editable": true
   },
   "outputs": [
    {
     "data": {
      "text/plain": [
       "{'Ar3': Atom Ar3 from ar_iii_atom_M83-KS86.dat and ar_iii_coll_GMZ95.dat,\n",
       " 'N2': Atom N2 from n_ii_atom_GMZ97-WFD96.dat and n_ii_coll_T11.dat,\n",
       " 'O2': Atom O2 from o_ii_atom_Z82-WFD96.dat and o_ii_coll_P06-T07.dat,\n",
       " 'O3': Atom O3 from o_iii_atom_SZ00-WFD96.dat and o_iii_coll_SSB14.dat}"
      ]
     },
     "execution_count": 31,
     "metadata": {},
     "output_type": "execute_result"
    }
   ],
   "source": [
    "atoms"
   ]
  },
  {
   "cell_type": "markdown",
   "metadata": {
    "deletable": true,
    "editable": true
   },
   "source": [
    "In all these cases, a dictionary is created whose keys are the conventional atom names $<$element$><$spectrum$>$, and the corresponding entries the atoms themselves; e. g.:"
   ]
  },
  {
   "cell_type": "code",
   "execution_count": 32,
   "metadata": {
    "collapsed": false,
    "deletable": true,
    "editable": true
   },
   "outputs": [
    {
     "data": {
      "text/plain": [
       "Atom N2 from n_ii_atom_GMZ97-WFD96.dat and n_ii_coll_T11.dat"
      ]
     },
     "execution_count": 32,
     "metadata": {},
     "output_type": "execute_result"
    }
   ],
   "source": [
    "atoms['N2']"
   ]
  },
  {
   "cell_type": "code",
   "execution_count": 33,
   "metadata": {
    "collapsed": false,
    "deletable": true,
    "editable": true
   },
   "outputs": [
    {
     "data": {
      "text/plain": [
       "array(5.948363882838976e-21)"
      ]
     },
     "execution_count": 33,
     "metadata": {},
     "output_type": "execute_result"
    }
   ],
   "source": [
    "atoms['N2'].getEmissivity(tem=1e4, den=1e2, wave=6584)   # example of use"
   ]
  },
  {
   "cell_type": "markdown",
   "metadata": {
    "deletable": true,
    "editable": true
   },
   "source": [
    "This can be useful if you need to loop on a list of atoms, to plot atomic data for example. To see what atoms have been created (which is limited by the data included in the selected atomic data set), enter:"
   ]
  },
  {
   "cell_type": "code",
   "execution_count": 34,
   "metadata": {
    "collapsed": false,
    "deletable": true,
    "editable": true
   },
   "outputs": [
    {
     "data": {
      "text/plain": [
       "dict_keys(['O2', 'O3', 'Ar3', 'N2'])"
      ]
     },
     "execution_count": 34,
     "metadata": {},
     "output_type": "execute_result"
    }
   ],
   "source": [
    "atoms.keys()"
   ]
  },
  {
   "cell_type": "markdown",
   "metadata": {
    "deletable": true,
    "editable": true
   },
   "source": [
    "If you want to be able to access them directly rather than through a dictionary, input from the command line:"
   ]
  },
  {
   "cell_type": "code",
   "execution_count": 35,
   "metadata": {
    "collapsed": true,
    "deletable": true,
    "editable": true
   },
   "outputs": [],
   "source": [
    "for key in atoms.keys():\n",
    "    vars()[key]=atoms[key]"
   ]
  },
  {
   "cell_type": "markdown",
   "metadata": {
    "deletable": true,
    "editable": true
   },
   "source": [
    "and then you will be able to do the following:"
   ]
  },
  {
   "cell_type": "code",
   "execution_count": 36,
   "metadata": {
    "collapsed": false,
    "deletable": true,
    "editable": true
   },
   "outputs": [
    {
     "data": {
      "text/plain": [
       "5"
      ]
     },
     "execution_count": 36,
     "metadata": {},
     "output_type": "execute_result"
    }
   ],
   "source": [
    "Ar3.NLevels"
   ]
  }
 ],
 "metadata": {
  "kernelspec": {
   "display_name": "Python 3",
   "language": "python",
   "name": "python3"
  },
  "language_info": {
   "codemirror_mode": {
    "name": "ipython",
    "version": 3
   },
   "file_extension": ".py",
   "mimetype": "text/x-python",
   "name": "python",
   "nbconvert_exporter": "python",
   "pygments_lexer": "ipython3",
   "version": "3.6.1"
  }
 },
 "nbformat": 4,
 "nbformat_minor": 0
}
